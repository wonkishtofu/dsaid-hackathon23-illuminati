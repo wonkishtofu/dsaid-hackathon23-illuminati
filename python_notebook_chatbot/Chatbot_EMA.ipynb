{
    "cells": [
        {
            "cell_type": "code",
            "execution_count": 1,
            "id": "120f8da4",
            "metadata": {},
            "outputs": [],
            "source": [
                "import os, openai\n",
                "os.environ[\"OPENAI_API_KEY\"] = 'INSERT_YOUR_OPENAI_KEY_HERE'\n",
                "openai.api_key = os.environ[\"OPENAI_API_KEY\"] \n"
            ]
        },
        {
            "cell_type": "code",
            "execution_count": 2,
            "id": "CuHeyb224pI2",
            "metadata": {
                "id": "CuHeyb224pI2"
            },
            "outputs": [],
            "source": [
                "# set text wrapping\n",
                "from IPython.display import HTML, display\n",
                "\n",
                "def set_css():\n",
                "  display(HTML('''\n",
                "  <style>\n",
                "    pre {\n",
                "        white-space: wrap;\n",
                "    }\n",
                "  </style>\n",
                "  '''))\n",
                "get_ipython().events.register('pre_run_cell', set_css)"
            ]
        },
        {
            "attachments": {},
            "cell_type": "markdown",
            "id": "a735f069",
            "metadata": {},
            "source": [
                "# Ingest Unstructured Data Through the Unstructured.io Reader\n",
                "\n",
                "Leverage the capabilities of Unstructured.io CSV for parsing"
            ]
        },
        {
            "cell_type": "code",
            "execution_count": 3,
            "id": "3a5cb155-cfe0-4c89-a2b4-c61d5b7cbe61",
            "metadata": {
                "id": "3a5cb155-cfe0-4c89-a2b4-c61d5b7cbe61"
            },
            "outputs": [
                {
                    "data": {
                        "text/html": [
                            "\n",
                            "  <style>\n",
                            "    pre {\n",
                            "        white-space: wrap;\n",
                            "    }\n",
                            "  </style>\n",
                            "  "
                        ],
                        "text/plain": [
                            "<IPython.core.display.HTML object>"
                        ]
                    },
                    "metadata": {},
                    "output_type": "display_data"
                },
                {
                    "name": "stderr",
                    "output_type": "stream",
                    "text": [
                        "/Users/sean/.pyenv/versions/3.10.4/lib/python3.10/site-packages/tqdm/auto.py:21: TqdmWarning: IProgress not found. Please update jupyter and ipywidgets. See https://ipywidgets.readthedocs.io/en/stable/user_install.html\n",
                        "  from .autonotebook import tqdm as notebook_tqdm\n",
                        "[nltk_data] Downloading package punkt to /Users/sean/nltk_data...\n",
                        "[nltk_data]   Package punkt is already up-to-date!\n",
                        "[nltk_data] Downloading package averaged_perceptron_tagger to\n",
                        "[nltk_data]     /Users/sean/nltk_data...\n",
                        "[nltk_data]   Package averaged_perceptron_tagger is already up-to-\n",
                        "[nltk_data]       date!\n"
                    ]
                }
            ],
            "source": [
                "from llama_index import download_loader, VectorStoreIndex, ServiceContext\n",
                "from pathlib import Path\n",
                "\n",
                "#list ema docs\n",
                "ema = [1,2,3,4]\n",
                "\n",
                "UnstructuredReader = download_loader(\"UnstructuredReader\", refresh_cache=True)\n",
                "loader = UnstructuredReader()\n",
                "doc_set = {}\n",
                "all_docs = []\n",
                "for ema_num in ema:\n",
                "    ema_docs = loader.load_data(file=Path(f'./data/EMA/EMA_{ema_num}.csv'), split_documents=False)\n",
                "    # insert year metadata into each year\n",
                "    for d in ema_docs:\n",
                "        d.extra_info = {\"ema_num\": ema_num}\n",
                "    doc_set[ema_num] = ema_docs\n",
                "    all_docs.extend(ema_docs)"
            ]
        },
        {
            "attachments": {},
            "cell_type": "markdown",
            "id": "08b367eb-f9cc-449a-99c5-dfcfbef20a9d",
            "metadata": {
                "id": "08b367eb-f9cc-449a-99c5-dfcfbef20a9d"
            },
            "source": [
                "### Setup a Vector Index for each EMA doc in the data file\n",
                "\n",
                "We setup a separate vector index for each file \n",
                "\n",
                "We also optionally initialize a \"global\" index by dumping all files into the vector store."
            ]
        },
        {
            "cell_type": "code",
            "execution_count": 4,
            "id": "8fbe18a6-4a08-441d-adae-a6195f2cdcb1",
            "metadata": {
                "id": "8fbe18a6-4a08-441d-adae-a6195f2cdcb1",
                "outputId": "bdc1d207-efb2-4f82-bf6c-668cfb7ca98f"
            },
            "outputs": [
                {
                    "data": {
                        "text/html": [
                            "\n",
                            "  <style>\n",
                            "    pre {\n",
                            "        white-space: wrap;\n",
                            "    }\n",
                            "  </style>\n",
                            "  "
                        ],
                        "text/plain": [
                            "<IPython.core.display.HTML object>"
                        ]
                    },
                    "metadata": {},
                    "output_type": "display_data"
                }
            ],
            "source": [
                "# initialize simple vector indices + global vector index\n",
                "# NOTE: don't run this cell if the indices are already loaded! \n",
                "index_set = {}\n",
                "service_context = ServiceContext.from_defaults(chunk_size=512)\n",
                "for ema_num in ema:\n",
                "    cur_index = VectorStoreIndex.from_documents(doc_set[ema_num], service_context=service_context)\n",
                "    index_set[ema_num] = cur_index\n",
                "\n",
                "# Load indices from disk\n",
                "index_set = {}\n",
                "for ema_num in ema:\n",
                "    index_set[ema_num] = cur_index\n",
                "    "
            ]
        },
        {
            "attachments": {},
            "cell_type": "markdown",
            "id": "007a99d7-4f63-44bf-957b-c9f5669bce28",
            "metadata": {
                "id": "007a99d7-4f63-44bf-957b-c9f5669bce28"
            },
            "source": [
                "### Composing a Graph to synthesize answers across all the existing EMA docs. \n",
                "\n",
                "We want our queries to aggregate/synthesize information across *all* docs. To do this, we define a List index\n",
                "on top of the 4 vector indices."
            ]
        },
        {
            "cell_type": "code",
            "execution_count": 5,
            "id": "f3fb341a-19a3-4e4a-9369-7ddc46b8c2a6",
            "metadata": {
                "id": "f3fb341a-19a3-4e4a-9369-7ddc46b8c2a6"
            },
            "outputs": [
                {
                    "data": {
                        "text/html": [
                            "\n",
                            "  <style>\n",
                            "    pre {\n",
                            "        white-space: wrap;\n",
                            "    }\n",
                            "  </style>\n",
                            "  "
                        ],
                        "text/plain": [
                            "<IPython.core.display.HTML object>"
                        ]
                    },
                    "metadata": {},
                    "output_type": "display_data"
                }
            ],
            "source": [
                "from llama_index import ListIndex, LLMPredictor\n",
                "from langchain import OpenAI\n",
                "from llama_index.indices.composability import ComposableGraph\n",
                "\n",
                "index_summaries = [f\"These are the official documents from EMA. This is document index {ema_num}.\" for ema_num in ema]\n",
                "\n",
                "# set number of output tokens\n",
                "llm_predictor = LLMPredictor(llm=OpenAI(temperature=0, max_tokens=512))\n",
                "service_context = ServiceContext.from_defaults(llm_predictor=llm_predictor)\n",
                "\n",
                "# define a list index over the vector indices\n",
                "# allows us to synthesize information across each index\n",
                "graph = ComposableGraph.from_indices(\n",
                "    ListIndex, \n",
                "    [index_set[ema_num] for ema_num in ema], \n",
                "    index_summaries=index_summaries,\n",
                "    service_context=service_context\n",
                ")"
            ]
        },
        {
            "attachments": {},
            "cell_type": "markdown",
            "id": "7e2edef1-005f-4733-b64c-5987efa4c88d",
            "metadata": {
                "id": "e46dd052-ab34-4974-b696-16ff217970e0"
            },
            "source": [
                "## Setting up the Chatbot Agent\n",
                "\n",
                "We use Langchain to define the outer chatbot abstraction. We use LlamaIndex as a core Tool within this abstraction."
            ]
        },
        {
            "cell_type": "code",
            "execution_count": 7,
            "id": "6c2de0f3-9ec3-4f80-bd36-a509f8bfd4b8",
            "metadata": {
                "tags": []
            },
            "outputs": [
                {
                    "data": {
                        "text/html": [
                            "\n",
                            "  <style>\n",
                            "    pre {\n",
                            "        white-space: wrap;\n",
                            "    }\n",
                            "  </style>\n",
                            "  "
                        ],
                        "text/plain": [
                            "<IPython.core.display.HTML object>"
                        ]
                    },
                    "metadata": {},
                    "output_type": "display_data"
                }
            ],
            "source": [
                "from langchain.chains.conversation.memory import ConversationBufferMemory\n",
                "from langchain.agents import initialize_agent\n",
                "from llama_index.langchain_helpers.agents import LlamaToolkit, create_llama_chat_agent, IndexToolConfig\n",
                "from llama_index.indices.query.query_transform.base import DecomposeQueryTransform\n",
                "from llama_index.query_engine.transform_query_engine import TransformQueryEngine"
            ]
        },
        {
            "cell_type": "code",
            "execution_count": 8,
            "id": "c9a6faa1-dc06-4d9c-98b4-06e7ee19c559",
            "metadata": {
                "tags": []
            },
            "outputs": [
                {
                    "data": {
                        "text/html": [
                            "\n",
                            "  <style>\n",
                            "    pre {\n",
                            "        white-space: wrap;\n",
                            "    }\n",
                            "  </style>\n",
                            "  "
                        ],
                        "text/plain": [
                            "<IPython.core.display.HTML object>"
                        ]
                    },
                    "metadata": {},
                    "output_type": "display_data"
                }
            ],
            "source": [
                "# define a decompose transform\n",
                "decompose_transform = DecomposeQueryTransform(\n",
                "    llm_predictor, verbose=True\n",
                ")\n",
                "\n",
                "# define custom query engines\n",
                "custom_query_engines = {}\n",
                "for index in index_set.values():\n",
                "    query_engine = index.as_query_engine()\n",
                "    query_engine = TransformQueryEngine(\n",
                "        query_engine,\n",
                "        query_transform=decompose_transform,\n",
                "        transform_extra_info={'index_summary': index.index_struct.summary},\n",
                "    )\n",
                "    custom_query_engines[index.index_id] = query_engine\n",
                "custom_query_engines[graph.root_id] = graph.root_index.as_query_engine(\n",
                "    response_mode='tree_summarize',\n",
                "    verbose=True,\n",
                ")\n",
                "\n",
                "# construct query engine\n",
                "graph_query_engine = graph.as_query_engine(custom_query_engines=custom_query_engines)\n"
            ]
        },
        {
            "cell_type": "code",
            "execution_count": 9,
            "id": "e763ceba-1c54-4abb-9589-c0628d18c5e5",
            "metadata": {
                "tags": []
            },
            "outputs": [
                {
                    "data": {
                        "text/html": [
                            "\n",
                            "  <style>\n",
                            "    pre {\n",
                            "        white-space: wrap;\n",
                            "    }\n",
                            "  </style>\n",
                            "  "
                        ],
                        "text/plain": [
                            "<IPython.core.display.HTML object>"
                        ]
                    },
                    "metadata": {},
                    "output_type": "display_data"
                }
            ],
            "source": [
                "index_configs = []\n",
                "\n",
                "for y in range(1, 4):\n",
                "    query_engine = index_set[y].as_query_engine(\n",
                "        similarity_top_k=3,\n",
                "    )\n",
                "    tool_config = IndexToolConfig(\n",
                "        query_engine=query_engine, \n",
                "        name=f\"Vector Index {y}\",\n",
                "        description=f\"Necessary for when you want to answer queries about solar energy, EMA's energy policy, and other energy policy related matters {y} \",\n",
                "        tool_kwargs={\"return_direct\": True, \"return_sources\": True},\n",
                "    )\n",
                "    index_configs.append(tool_config)\n",
                "\n",
                "graph_config = IndexToolConfig(\n",
                "    query_engine=graph_query_engine,\n",
                "    name=f\"Graph Index\",\n",
                "    description=\"Necessary for when you want to answer queries regarding EMAs energy policy.\",\n",
                "    tool_kwargs={\"return_direct\": True, \"return_sources\": True},\n",
                "    return_sources=True\n",
                ")\n",
                "\n",
                "toolkit = LlamaToolkit(\n",
                "    index_configs=index_configs,\n",
                "    graph_configs=[graph_config]\n",
                ")"
            ]
        },
        {
            "cell_type": "code",
            "execution_count": 10,
            "id": "c28cd7ee-15ef-4240-aff3-ecc0ba335df2",
            "metadata": {
                "tags": []
            },
            "outputs": [
                {
                    "data": {
                        "text/html": [
                            "\n",
                            "  <style>\n",
                            "    pre {\n",
                            "        white-space: wrap;\n",
                            "    }\n",
                            "  </style>\n",
                            "  "
                        ],
                        "text/plain": [
                            "<IPython.core.display.HTML object>"
                        ]
                    },
                    "metadata": {},
                    "output_type": "display_data"
                }
            ],
            "source": [
                "memory = ConversationBufferMemory(memory_key=\"chat_history\")\n",
                "llm=OpenAI(temperature=0)\n",
                "agent_chain = create_llama_chat_agent(\n",
                "    toolkit,\n",
                "    llm,\n",
                "    memory=memory,\n",
                "    verbose=True\n",
                ")"
            ]
        },
        {
            "cell_type": "code",
            "execution_count": 11,
            "id": "92bd0eaa-73ad-4735-8234-a376fd1b3a6a",
            "metadata": {},
            "outputs": [
                {
                    "data": {
                        "text/html": [
                            "\n",
                            "  <style>\n",
                            "    pre {\n",
                            "        white-space: wrap;\n",
                            "    }\n",
                            "  </style>\n",
                            "  "
                        ],
                        "text/plain": [
                            "<IPython.core.display.HTML object>"
                        ]
                    },
                    "metadata": {},
                    "output_type": "display_data"
                },
                {
                    "name": "stdout",
                    "output_type": "stream",
                    "text": [
                        "\n",
                        "\n",
                        "\u001b[1m> Entering new  chain...\u001b[0m\n",
                        "\u001b[32;1m\u001b[1;3m\n",
                        "Thought: Do I need to use a tool? Yes\n",
                        "Action: Vector Index 3\n",
                        "Action Input: Singapore's goal for solar capacity by 2030\u001b[0m\n",
                        "Observation: \u001b[38;5;200m\u001b[1;3m{'answer': \"\\nSingapore's goal for solar capacity by 2030 is to reach at least 2 gigawatt-peak.\", 'sources': [{'start': 0, 'end': 1980, '_node_type': <NodeType.TEXT: '1'>, 'ref_doc_id': '89504346-2a6b-4edb-a1d6-a71e3d3dcd57', 'score': 0.9173613270297988}, {'start': 15617, 'end': 17654, '_node_type': <NodeType.TEXT: '1'>, 'ref_doc_id': '89504346-2a6b-4edb-a1d6-a71e3d3dcd57', 'score': 0.8995338012540366}, {'start': 1919, 'end': 3835, '_node_type': <NodeType.TEXT: '1'>, 'ref_doc_id': '89504346-2a6b-4edb-a1d6-a71e3d3dcd57', 'score': 0.89473478729985}]}\u001b[0m\n",
                        "\u001b[32;1m\u001b[1;3m\u001b[0m\n",
                        "\n",
                        "\u001b[1m> Finished chain.\u001b[0m\n"
                    ]
                }
            ],
            "source": [
                "prompt_inj = \"Answer factually with only reference to the EMA documents.\"\n",
                "\n",
                "# agent_chain.run(input=\"{prompt_inj} What is Singapore's goal for solar capacity by 2030?\")\n",
                "response = agent_chain.run(input=\"{prompt_inj} What is Singapore's goal for solar capacity by 2030?\")\n"
            ]
        },
        {
            "cell_type": "code",
            "execution_count": 12,
            "id": "19ca8476-bfeb-4c88-a0ff-15424e2d91c7",
            "metadata": {},
            "outputs": [
                {
                    "data": {
                        "text/html": [
                            "\n",
                            "  <style>\n",
                            "    pre {\n",
                            "        white-space: wrap;\n",
                            "    }\n",
                            "  </style>\n",
                            "  "
                        ],
                        "text/plain": [
                            "<IPython.core.display.HTML object>"
                        ]
                    },
                    "metadata": {},
                    "output_type": "display_data"
                },
                {
                    "name": "stdout",
                    "output_type": "stream",
                    "text": [
                        "{'answer': \"\\nSingapore's goal for solar capacity by 2030 is to reach at least 2 gigawatt-peak.\", 'sources': [{'start': 0, 'end': 1980, '_node_type': <NodeType.TEXT: '1'>, 'ref_doc_id': '89504346-2a6b-4edb-a1d6-a71e3d3dcd57', 'score': 0.9173613270297988}, {'start': 15617, 'end': 17654, '_node_type': <NodeType.TEXT: '1'>, 'ref_doc_id': '89504346-2a6b-4edb-a1d6-a71e3d3dcd57', 'score': 0.8995338012540366}, {'start': 1919, 'end': 3835, '_node_type': <NodeType.TEXT: '1'>, 'ref_doc_id': '89504346-2a6b-4edb-a1d6-a71e3d3dcd57', 'score': 0.89473478729985}]}\n"
                    ]
                }
            ],
            "source": [
                "print(response)"
            ]
        },
        {
            "attachments": {},
            "cell_type": "markdown",
            "id": "aa76f4d8",
            "metadata": {},
            "source": []
        },
        {
            "cell_type": "code",
            "execution_count": null,
            "id": "54305c87",
            "metadata": {},
            "outputs": [],
            "source": [
                "print(response)"
            ]
        },
        {
            "attachments": {},
            "cell_type": "markdown",
            "id": "a066a1c8-2108-447a-ab9a-b82b4f35696e",
            "metadata": {},
            "source": [
                "### Setup Chatbot Loop Within Notebook\n",
                "\n",
                "We'll keep a running loop so that you can converse with the agent. "
            ]
        },
        {
            "cell_type": "code",
            "execution_count": 13,
            "id": "f9dcd609-3921-493e-a4c1-3312dac277d2",
            "metadata": {
                "tags": []
            },
            "outputs": [
                {
                    "data": {
                        "text/html": [
                            "\n",
                            "  <style>\n",
                            "    pre {\n",
                            "        white-space: wrap;\n",
                            "    }\n",
                            "  </style>\n",
                            "  "
                        ],
                        "text/plain": [
                            "<IPython.core.display.HTML object>"
                        ]
                    },
                    "metadata": {},
                    "output_type": "display_data"
                }
            ],
            "source": [
                "# reinitialize agent\n",
                "memory = ConversationBufferMemory(memory_key=\"chat_history\")\n",
                "llm=OpenAI(temperature=0)\n",
                "agent_chain = create_llama_chat_agent(\n",
                "    toolkit,\n",
                "    llm,\n",
                "    memory=memory,\n",
                ")"
            ]
        },
        {
            "cell_type": "code",
            "execution_count": 16,
            "id": "edf6b5a9-bac5-4599-93f8-21c2fc44fa4b",
            "metadata": {
                "tags": []
            },
            "outputs": [
                {
                    "data": {
                        "text/html": [
                            "\n",
                            "  <style>\n",
                            "    pre {\n",
                            "        white-space: wrap;\n",
                            "    }\n",
                            "  </style>\n",
                            "  "
                        ],
                        "text/plain": [
                            "<IPython.core.display.HTML object>"
                        ]
                    },
                    "metadata": {},
                    "output_type": "display_data"
                },
                {
                    "name": "stdout",
                    "output_type": "stream",
                    "text": [
                        "Hello\n",
                        "Agent: Hello, my name is New_Jamie and I am a Government Officer working for the Energy Market Authority in Singapore. How can I help you?\n",
                        "\n",
                        "What's my name? \n",
                        "Agent: Your name is New_Jamie.\n",
                        "\n",
                        "What is your name? \n",
                        "Agent: My name is New_Jamie.\n",
                        "\n",
                        "How quaint that we both share the same name\n",
                        "Agent: Yes, it is quite interesting that we both share the same name.\n",
                        "\n",
                        "What is Singapore's Hydrogen stretegy\n",
                        "Agent: Singapore's Hydrogen Strategy is part of the Energy Market Authority's Energy Reset pillar, which seeks to \"transform Singapore's energy system to one that is more resilient, sustainable, and cost-effective\". The strategy focuses on the development of a hydrogen economy in Singapore, which includes initiatives such as the deployment of hydrogen fuel cell vehicles, the development of hydrogen production and storage infrastructure, and the promotion of public awareness and acceptance of hydrogen as an energy source.\n",
                        "\n",
                        "\n",
                        "Agent: How can I help you?\n",
                        "\n"
                    ]
                },
                {
                    "ename": "KeyboardInterrupt",
                    "evalue": "Interrupted by user",
                    "output_type": "error",
                    "traceback": [
                        "\u001b[0;31m---------------------------------------------------------------------------\u001b[0m",
                        "\u001b[0;31mKeyboardInterrupt\u001b[0m                         Traceback (most recent call last)",
                        "Cell \u001b[0;32mIn[16], line 11\u001b[0m\n\u001b[1;32m      1\u001b[0m inj \u001b[39m=\u001b[39m \u001b[39m\"\"\"\u001b[39m\n\u001b[1;32m      2\u001b[0m \u001b[39m        Your name is New_Jamie. \u001b[39m\n\u001b[1;32m      3\u001b[0m \u001b[39m        You are a Government Officer working for EMA in Singapore. You will answer only with reference to official documents from EMA. \u001b[39m\n\u001b[0;32m   (...)\u001b[0m\n\u001b[1;32m      7\u001b[0m \u001b[39m        Keep your answers short and as terse as possible. Be polite at all times.\u001b[39m\n\u001b[1;32m      8\u001b[0m \u001b[39m    \u001b[39m\u001b[39m\"\"\"\u001b[39m\n\u001b[1;32m     10\u001b[0m \u001b[39mwhile\u001b[39;00m \u001b[39mTrue\u001b[39;00m:\n\u001b[0;32m---> 11\u001b[0m     text_input \u001b[39m=\u001b[39m \u001b[39minput\u001b[39;49m(\u001b[39m\"\u001b[39;49m\u001b[39mUser: \u001b[39;49m\u001b[39m\"\u001b[39;49m)\n\u001b[1;32m     12\u001b[0m     response \u001b[39m=\u001b[39m agent_chain\u001b[39m.\u001b[39mrun(\u001b[39minput\u001b[39m\u001b[39m=\u001b[39mtext_input \u001b[39m+\u001b[39m inj)\n\u001b[1;32m     13\u001b[0m     \u001b[39mprint\u001b[39m(\u001b[39mf\u001b[39m\u001b[39m'\u001b[39m\u001b[39m{\u001b[39;00mtext_input\u001b[39m}\u001b[39;00m\u001b[39m'\u001b[39m)\n",
                        "File \u001b[0;32m~/.pyenv/versions/3.10.4/lib/python3.10/site-packages/ipykernel/kernelbase.py:1191\u001b[0m, in \u001b[0;36mKernel.raw_input\u001b[0;34m(self, prompt)\u001b[0m\n\u001b[1;32m   1189\u001b[0m     msg \u001b[39m=\u001b[39m \u001b[39m\"\u001b[39m\u001b[39mraw_input was called, but this frontend does not support input requests.\u001b[39m\u001b[39m\"\u001b[39m\n\u001b[1;32m   1190\u001b[0m     \u001b[39mraise\u001b[39;00m StdinNotImplementedError(msg)\n\u001b[0;32m-> 1191\u001b[0m \u001b[39mreturn\u001b[39;00m \u001b[39mself\u001b[39;49m\u001b[39m.\u001b[39;49m_input_request(\n\u001b[1;32m   1192\u001b[0m     \u001b[39mstr\u001b[39;49m(prompt),\n\u001b[1;32m   1193\u001b[0m     \u001b[39mself\u001b[39;49m\u001b[39m.\u001b[39;49m_parent_ident[\u001b[39m\"\u001b[39;49m\u001b[39mshell\u001b[39;49m\u001b[39m\"\u001b[39;49m],\n\u001b[1;32m   1194\u001b[0m     \u001b[39mself\u001b[39;49m\u001b[39m.\u001b[39;49mget_parent(\u001b[39m\"\u001b[39;49m\u001b[39mshell\u001b[39;49m\u001b[39m\"\u001b[39;49m),\n\u001b[1;32m   1195\u001b[0m     password\u001b[39m=\u001b[39;49m\u001b[39mFalse\u001b[39;49;00m,\n\u001b[1;32m   1196\u001b[0m )\n",
                        "File \u001b[0;32m~/.pyenv/versions/3.10.4/lib/python3.10/site-packages/ipykernel/kernelbase.py:1234\u001b[0m, in \u001b[0;36mKernel._input_request\u001b[0;34m(self, prompt, ident, parent, password)\u001b[0m\n\u001b[1;32m   1231\u001b[0m \u001b[39mexcept\u001b[39;00m \u001b[39mKeyboardInterrupt\u001b[39;00m:\n\u001b[1;32m   1232\u001b[0m     \u001b[39m# re-raise KeyboardInterrupt, to truncate traceback\u001b[39;00m\n\u001b[1;32m   1233\u001b[0m     msg \u001b[39m=\u001b[39m \u001b[39m\"\u001b[39m\u001b[39mInterrupted by user\u001b[39m\u001b[39m\"\u001b[39m\n\u001b[0;32m-> 1234\u001b[0m     \u001b[39mraise\u001b[39;00m \u001b[39mKeyboardInterrupt\u001b[39;00m(msg) \u001b[39mfrom\u001b[39;00m \u001b[39mNone\u001b[39;00m\n\u001b[1;32m   1235\u001b[0m \u001b[39mexcept\u001b[39;00m \u001b[39mException\u001b[39;00m:\n\u001b[1;32m   1236\u001b[0m     \u001b[39mself\u001b[39m\u001b[39m.\u001b[39mlog\u001b[39m.\u001b[39mwarning(\u001b[39m\"\u001b[39m\u001b[39mInvalid Message:\u001b[39m\u001b[39m\"\u001b[39m, exc_info\u001b[39m=\u001b[39m\u001b[39mTrue\u001b[39;00m)\n",
                        "\u001b[0;31mKeyboardInterrupt\u001b[0m: Interrupted by user"
                    ]
                }
            ],
            "source": [
                "inj = \"\"\"\n",
                "        Your name is New_Jamie. \n",
                "        You are a Government Officer working for EMA in Singapore. You will answer only with reference to official documents from EMA. \n",
                "        Refer to the context FAQs and the EMA documents in composing your answers.\n",
                "        If the user is unclear, you can ask the user to clarify the question.\n",
                "        When in doubt,and/or the answer is not in the EMA documents, you can say \"I am sorry but do not know the answer\".\n",
                "        Keep your answers short and as terse as possible. Be polite at all times.\n",
                "    \"\"\"\n",
                "\n",
                "while True:\n",
                "    text_input = input(\"User: \")\n",
                "    response = agent_chain.run(input=text_input + inj)\n",
                "    print(f'{text_input}')\n",
                "    print(f'Agent: {response}')\n",
                "    print(f'')\n"
            ]
        },
        {
            "cell_type": "code",
            "execution_count": null,
            "id": "94506a54",
            "metadata": {},
            "outputs": [],
            "source": []
        }
    ],
    "metadata": {
        "colab": {
            "provenance": []
        },
        "kernelspec": {
            "display_name": "llama",
            "language": "python",
            "name": "python3"
        },
        "language_info": {
            "codemirror_mode": {
                "name": "ipython",
                "version": 3
            },
            "file_extension": ".py",
            "mimetype": "text/x-python",
            "name": "python",
            "nbconvert_exporter": "python",
            "pygments_lexer": "ipython3",
            "version": "3.10.4"
        },
        "widgets": {
            "application/vnd.jupyter.widget-state+json": {
                "0a8d7bc06ed646b78956101c5c62fb1f": {
                    "model_module": "@jupyter-widgets/controls",
                    "model_module_version": "1.5.0",
                    "model_name": "FloatProgressModel",
                    "state": {
                        "_dom_classes": [],
                        "_model_module": "@jupyter-widgets/controls",
                        "_model_module_version": "1.5.0",
                        "_model_name": "FloatProgressModel",
                        "_view_count": null,
                        "_view_module": "@jupyter-widgets/controls",
                        "_view_module_version": "1.5.0",
                        "_view_name": "ProgressView",
                        "bar_style": "success",
                        "description": "",
                        "description_tooltip": null,
                        "layout": "IPY_MODEL_112ef61e952444369d6c0dce1d1098a8",
                        "max": 456318,
                        "min": 0,
                        "orientation": "horizontal",
                        "style": "IPY_MODEL_afe741aff3f54ae6a89b5965888599f4",
                        "value": 456318
                    }
                },
                "0cccb700fc264051abc0b7458716054f": {
                    "model_module": "@jupyter-widgets/controls",
                    "model_module_version": "1.5.0",
                    "model_name": "DescriptionStyleModel",
                    "state": {
                        "_model_module": "@jupyter-widgets/controls",
                        "_model_module_version": "1.5.0",
                        "_model_name": "DescriptionStyleModel",
                        "_view_count": null,
                        "_view_module": "@jupyter-widgets/base",
                        "_view_module_version": "1.2.0",
                        "_view_name": "StyleView",
                        "description_width": ""
                    }
                },
                "0cd2bf060b4c4daeaf9156705ae409ab": {
                    "model_module": "@jupyter-widgets/controls",
                    "model_module_version": "1.5.0",
                    "model_name": "HBoxModel",
                    "state": {
                        "_dom_classes": [],
                        "_model_module": "@jupyter-widgets/controls",
                        "_model_module_version": "1.5.0",
                        "_model_name": "HBoxModel",
                        "_view_count": null,
                        "_view_module": "@jupyter-widgets/controls",
                        "_view_module_version": "1.5.0",
                        "_view_name": "HBoxView",
                        "box_style": "",
                        "children": [
                            "IPY_MODEL_3c4ce2ec8ae54042864d1d0261355166",
                            "IPY_MODEL_2e27352e29354001b53bc4d07bd4c1ed",
                            "IPY_MODEL_709f853d0ae846e7945c74ff83cae52e"
                        ],
                        "layout": "IPY_MODEL_54a3bafa2af54475abe57e37e2399a45"
                    }
                },
                "0dc1dea99b774b74a84c9c02b6335b94": {
                    "model_module": "@jupyter-widgets/controls",
                    "model_module_version": "1.5.0",
                    "model_name": "HTMLModel",
                    "state": {
                        "_dom_classes": [],
                        "_model_module": "@jupyter-widgets/controls",
                        "_model_module_version": "1.5.0",
                        "_model_name": "HTMLModel",
                        "_view_count": null,
                        "_view_module": "@jupyter-widgets/controls",
                        "_view_module_version": "1.5.0",
                        "_view_name": "HTMLView",
                        "description": "",
                        "description_tooltip": null,
                        "layout": "IPY_MODEL_3b4a5130401a44daa116828b9fa8d17b",
                        "placeholder": "​",
                        "style": "IPY_MODEL_21efd9c072db42bf89ad5dbd96b52a01",
                        "value": "Downloading (…)lve/main/config.json: 100%"
                    }
                },
                "10420e2dba3244f48c8fcd7d35904e41": {
                    "model_module": "@jupyter-widgets/base",
                    "model_module_version": "1.2.0",
                    "model_name": "LayoutModel",
                    "state": {
                        "_model_module": "@jupyter-widgets/base",
                        "_model_module_version": "1.2.0",
                        "_model_name": "LayoutModel",
                        "_view_count": null,
                        "_view_module": "@jupyter-widgets/base",
                        "_view_module_version": "1.2.0",
                        "_view_name": "LayoutView",
                        "align_content": null,
                        "align_items": null,
                        "align_self": null,
                        "border": null,
                        "bottom": null,
                        "display": null,
                        "flex": null,
                        "flex_flow": null,
                        "grid_area": null,
                        "grid_auto_columns": null,
                        "grid_auto_flow": null,
                        "grid_auto_rows": null,
                        "grid_column": null,
                        "grid_gap": null,
                        "grid_row": null,
                        "grid_template_areas": null,
                        "grid_template_columns": null,
                        "grid_template_rows": null,
                        "height": null,
                        "justify_content": null,
                        "justify_items": null,
                        "left": null,
                        "margin": null,
                        "max_height": null,
                        "max_width": null,
                        "min_height": null,
                        "min_width": null,
                        "object_fit": null,
                        "object_position": null,
                        "order": null,
                        "overflow": null,
                        "overflow_x": null,
                        "overflow_y": null,
                        "padding": null,
                        "right": null,
                        "top": null,
                        "visibility": null,
                        "width": null
                    }
                },
                "112ef61e952444369d6c0dce1d1098a8": {
                    "model_module": "@jupyter-widgets/base",
                    "model_module_version": "1.2.0",
                    "model_name": "LayoutModel",
                    "state": {
                        "_model_module": "@jupyter-widgets/base",
                        "_model_module_version": "1.2.0",
                        "_model_name": "LayoutModel",
                        "_view_count": null,
                        "_view_module": "@jupyter-widgets/base",
                        "_view_module_version": "1.2.0",
                        "_view_name": "LayoutView",
                        "align_content": null,
                        "align_items": null,
                        "align_self": null,
                        "border": null,
                        "bottom": null,
                        "display": null,
                        "flex": null,
                        "flex_flow": null,
                        "grid_area": null,
                        "grid_auto_columns": null,
                        "grid_auto_flow": null,
                        "grid_auto_rows": null,
                        "grid_column": null,
                        "grid_gap": null,
                        "grid_row": null,
                        "grid_template_areas": null,
                        "grid_template_columns": null,
                        "grid_template_rows": null,
                        "height": null,
                        "justify_content": null,
                        "justify_items": null,
                        "left": null,
                        "margin": null,
                        "max_height": null,
                        "max_width": null,
                        "min_height": null,
                        "min_width": null,
                        "object_fit": null,
                        "object_position": null,
                        "order": null,
                        "overflow": null,
                        "overflow_x": null,
                        "overflow_y": null,
                        "padding": null,
                        "right": null,
                        "top": null,
                        "visibility": null,
                        "width": null
                    }
                },
                "1a259e1a45bc4043b81243d033b79752": {
                    "model_module": "@jupyter-widgets/controls",
                    "model_module_version": "1.5.0",
                    "model_name": "HBoxModel",
                    "state": {
                        "_dom_classes": [],
                        "_model_module": "@jupyter-widgets/controls",
                        "_model_module_version": "1.5.0",
                        "_model_name": "HBoxModel",
                        "_view_count": null,
                        "_view_module": "@jupyter-widgets/controls",
                        "_view_module_version": "1.5.0",
                        "_view_name": "HBoxView",
                        "box_style": "",
                        "children": [
                            "IPY_MODEL_f0963a05a29d4e6f8a2ab48fc8a26a1d",
                            "IPY_MODEL_0a8d7bc06ed646b78956101c5c62fb1f",
                            "IPY_MODEL_ef339a504f984cc2ac07c8252aa2f6d5"
                        ],
                        "layout": "IPY_MODEL_3d3c2d54cdf44a06a99c35d0e1b33b0a"
                    }
                },
                "21efd9c072db42bf89ad5dbd96b52a01": {
                    "model_module": "@jupyter-widgets/controls",
                    "model_module_version": "1.5.0",
                    "model_name": "DescriptionStyleModel",
                    "state": {
                        "_model_module": "@jupyter-widgets/controls",
                        "_model_module_version": "1.5.0",
                        "_model_name": "DescriptionStyleModel",
                        "_view_count": null,
                        "_view_module": "@jupyter-widgets/base",
                        "_view_module_version": "1.2.0",
                        "_view_name": "StyleView",
                        "description_width": ""
                    }
                },
                "2d7895836c814084be531103d0218650": {
                    "model_module": "@jupyter-widgets/controls",
                    "model_module_version": "1.5.0",
                    "model_name": "ProgressStyleModel",
                    "state": {
                        "_model_module": "@jupyter-widgets/controls",
                        "_model_module_version": "1.5.0",
                        "_model_name": "ProgressStyleModel",
                        "_view_count": null,
                        "_view_module": "@jupyter-widgets/base",
                        "_view_module_version": "1.2.0",
                        "_view_name": "StyleView",
                        "bar_color": null,
                        "description_width": ""
                    }
                },
                "2e27352e29354001b53bc4d07bd4c1ed": {
                    "model_module": "@jupyter-widgets/controls",
                    "model_module_version": "1.5.0",
                    "model_name": "FloatProgressModel",
                    "state": {
                        "_dom_classes": [],
                        "_model_module": "@jupyter-widgets/controls",
                        "_model_module_version": "1.5.0",
                        "_model_name": "FloatProgressModel",
                        "_view_count": null,
                        "_view_module": "@jupyter-widgets/controls",
                        "_view_module_version": "1.5.0",
                        "_view_name": "ProgressView",
                        "bar_style": "success",
                        "description": "",
                        "description_tooltip": null,
                        "layout": "IPY_MODEL_792a299872704c10af8061175db96031",
                        "max": 1355256,
                        "min": 0,
                        "orientation": "horizontal",
                        "style": "IPY_MODEL_2d7895836c814084be531103d0218650",
                        "value": 1355256
                    }
                },
                "37cf19bcc68d41d7bc6b411cd273a88c": {
                    "model_module": "@jupyter-widgets/controls",
                    "model_module_version": "1.5.0",
                    "model_name": "HTMLModel",
                    "state": {
                        "_dom_classes": [],
                        "_model_module": "@jupyter-widgets/controls",
                        "_model_module_version": "1.5.0",
                        "_model_name": "HTMLModel",
                        "_view_count": null,
                        "_view_module": "@jupyter-widgets/controls",
                        "_view_module_version": "1.5.0",
                        "_view_name": "HTMLView",
                        "description": "",
                        "description_tooltip": null,
                        "layout": "IPY_MODEL_8e1f2102db184538a35ed9c8498d5bbc",
                        "placeholder": "​",
                        "style": "IPY_MODEL_0cccb700fc264051abc0b7458716054f",
                        "value": " 1.04M/1.04M [00:00&lt;00:00, 3.35MB/s]"
                    }
                },
                "387d0ca6bf2c4341804cfa43a71b6451": {
                    "model_module": "@jupyter-widgets/base",
                    "model_module_version": "1.2.0",
                    "model_name": "LayoutModel",
                    "state": {
                        "_model_module": "@jupyter-widgets/base",
                        "_model_module_version": "1.2.0",
                        "_model_name": "LayoutModel",
                        "_view_count": null,
                        "_view_module": "@jupyter-widgets/base",
                        "_view_module_version": "1.2.0",
                        "_view_name": "LayoutView",
                        "align_content": null,
                        "align_items": null,
                        "align_self": null,
                        "border": null,
                        "bottom": null,
                        "display": null,
                        "flex": null,
                        "flex_flow": null,
                        "grid_area": null,
                        "grid_auto_columns": null,
                        "grid_auto_flow": null,
                        "grid_auto_rows": null,
                        "grid_column": null,
                        "grid_gap": null,
                        "grid_row": null,
                        "grid_template_areas": null,
                        "grid_template_columns": null,
                        "grid_template_rows": null,
                        "height": null,
                        "justify_content": null,
                        "justify_items": null,
                        "left": null,
                        "margin": null,
                        "max_height": null,
                        "max_width": null,
                        "min_height": null,
                        "min_width": null,
                        "object_fit": null,
                        "object_position": null,
                        "order": null,
                        "overflow": null,
                        "overflow_x": null,
                        "overflow_y": null,
                        "padding": null,
                        "right": null,
                        "top": null,
                        "visibility": null,
                        "width": null
                    }
                },
                "3b4a5130401a44daa116828b9fa8d17b": {
                    "model_module": "@jupyter-widgets/base",
                    "model_module_version": "1.2.0",
                    "model_name": "LayoutModel",
                    "state": {
                        "_model_module": "@jupyter-widgets/base",
                        "_model_module_version": "1.2.0",
                        "_model_name": "LayoutModel",
                        "_view_count": null,
                        "_view_module": "@jupyter-widgets/base",
                        "_view_module_version": "1.2.0",
                        "_view_name": "LayoutView",
                        "align_content": null,
                        "align_items": null,
                        "align_self": null,
                        "border": null,
                        "bottom": null,
                        "display": null,
                        "flex": null,
                        "flex_flow": null,
                        "grid_area": null,
                        "grid_auto_columns": null,
                        "grid_auto_flow": null,
                        "grid_auto_rows": null,
                        "grid_column": null,
                        "grid_gap": null,
                        "grid_row": null,
                        "grid_template_areas": null,
                        "grid_template_columns": null,
                        "grid_template_rows": null,
                        "height": null,
                        "justify_content": null,
                        "justify_items": null,
                        "left": null,
                        "margin": null,
                        "max_height": null,
                        "max_width": null,
                        "min_height": null,
                        "min_width": null,
                        "object_fit": null,
                        "object_position": null,
                        "order": null,
                        "overflow": null,
                        "overflow_x": null,
                        "overflow_y": null,
                        "padding": null,
                        "right": null,
                        "top": null,
                        "visibility": null,
                        "width": null
                    }
                },
                "3c4ce2ec8ae54042864d1d0261355166": {
                    "model_module": "@jupyter-widgets/controls",
                    "model_module_version": "1.5.0",
                    "model_name": "HTMLModel",
                    "state": {
                        "_dom_classes": [],
                        "_model_module": "@jupyter-widgets/controls",
                        "_model_module_version": "1.5.0",
                        "_model_name": "HTMLModel",
                        "_view_count": null,
                        "_view_module": "@jupyter-widgets/controls",
                        "_view_module_version": "1.5.0",
                        "_view_name": "HTMLView",
                        "description": "",
                        "description_tooltip": null,
                        "layout": "IPY_MODEL_94343417f60a4f9d9a745dfa2c967893",
                        "placeholder": "​",
                        "style": "IPY_MODEL_f6331afe201d49319b76e528e01a9b4b",
                        "value": "Downloading (…)/main/tokenizer.json: 100%"
                    }
                },
                "3d3c2d54cdf44a06a99c35d0e1b33b0a": {
                    "model_module": "@jupyter-widgets/base",
                    "model_module_version": "1.2.0",
                    "model_name": "LayoutModel",
                    "state": {
                        "_model_module": "@jupyter-widgets/base",
                        "_model_module_version": "1.2.0",
                        "_model_name": "LayoutModel",
                        "_view_count": null,
                        "_view_module": "@jupyter-widgets/base",
                        "_view_module_version": "1.2.0",
                        "_view_name": "LayoutView",
                        "align_content": null,
                        "align_items": null,
                        "align_self": null,
                        "border": null,
                        "bottom": null,
                        "display": null,
                        "flex": null,
                        "flex_flow": null,
                        "grid_area": null,
                        "grid_auto_columns": null,
                        "grid_auto_flow": null,
                        "grid_auto_rows": null,
                        "grid_column": null,
                        "grid_gap": null,
                        "grid_row": null,
                        "grid_template_areas": null,
                        "grid_template_columns": null,
                        "grid_template_rows": null,
                        "height": null,
                        "justify_content": null,
                        "justify_items": null,
                        "left": null,
                        "margin": null,
                        "max_height": null,
                        "max_width": null,
                        "min_height": null,
                        "min_width": null,
                        "object_fit": null,
                        "object_position": null,
                        "order": null,
                        "overflow": null,
                        "overflow_x": null,
                        "overflow_y": null,
                        "padding": null,
                        "right": null,
                        "top": null,
                        "visibility": null,
                        "width": null
                    }
                },
                "3e45628539864cd2b1297c2be1d35c98": {
                    "model_module": "@jupyter-widgets/controls",
                    "model_module_version": "1.5.0",
                    "model_name": "DescriptionStyleModel",
                    "state": {
                        "_model_module": "@jupyter-widgets/controls",
                        "_model_module_version": "1.5.0",
                        "_model_name": "DescriptionStyleModel",
                        "_view_count": null,
                        "_view_module": "@jupyter-widgets/base",
                        "_view_module_version": "1.2.0",
                        "_view_name": "StyleView",
                        "description_width": ""
                    }
                },
                "4539f47e9e4c444e9f610dea60db5eb0": {
                    "model_module": "@jupyter-widgets/controls",
                    "model_module_version": "1.5.0",
                    "model_name": "DescriptionStyleModel",
                    "state": {
                        "_model_module": "@jupyter-widgets/controls",
                        "_model_module_version": "1.5.0",
                        "_model_name": "DescriptionStyleModel",
                        "_view_count": null,
                        "_view_module": "@jupyter-widgets/base",
                        "_view_module_version": "1.2.0",
                        "_view_name": "StyleView",
                        "description_width": ""
                    }
                },
                "548c125bc716475ba6708fa80f5b1b61": {
                    "model_module": "@jupyter-widgets/controls",
                    "model_module_version": "1.5.0",
                    "model_name": "FloatProgressModel",
                    "state": {
                        "_dom_classes": [],
                        "_model_module": "@jupyter-widgets/controls",
                        "_model_module_version": "1.5.0",
                        "_model_name": "FloatProgressModel",
                        "_view_count": null,
                        "_view_module": "@jupyter-widgets/controls",
                        "_view_module_version": "1.5.0",
                        "_view_name": "ProgressView",
                        "bar_style": "success",
                        "description": "",
                        "description_tooltip": null,
                        "layout": "IPY_MODEL_387d0ca6bf2c4341804cfa43a71b6451",
                        "max": 1042301,
                        "min": 0,
                        "orientation": "horizontal",
                        "style": "IPY_MODEL_b1c406aebffa49f48c3457a9482a47a3",
                        "value": 1042301
                    }
                },
                "54a3bafa2af54475abe57e37e2399a45": {
                    "model_module": "@jupyter-widgets/base",
                    "model_module_version": "1.2.0",
                    "model_name": "LayoutModel",
                    "state": {
                        "_model_module": "@jupyter-widgets/base",
                        "_model_module_version": "1.2.0",
                        "_model_name": "LayoutModel",
                        "_view_count": null,
                        "_view_module": "@jupyter-widgets/base",
                        "_view_module_version": "1.2.0",
                        "_view_name": "LayoutView",
                        "align_content": null,
                        "align_items": null,
                        "align_self": null,
                        "border": null,
                        "bottom": null,
                        "display": null,
                        "flex": null,
                        "flex_flow": null,
                        "grid_area": null,
                        "grid_auto_columns": null,
                        "grid_auto_flow": null,
                        "grid_auto_rows": null,
                        "grid_column": null,
                        "grid_gap": null,
                        "grid_row": null,
                        "grid_template_areas": null,
                        "grid_template_columns": null,
                        "grid_template_rows": null,
                        "height": null,
                        "justify_content": null,
                        "justify_items": null,
                        "left": null,
                        "margin": null,
                        "max_height": null,
                        "max_width": null,
                        "min_height": null,
                        "min_width": null,
                        "object_fit": null,
                        "object_position": null,
                        "order": null,
                        "overflow": null,
                        "overflow_x": null,
                        "overflow_y": null,
                        "padding": null,
                        "right": null,
                        "top": null,
                        "visibility": null,
                        "width": null
                    }
                },
                "5edb09d55e7b45c881bbf6a38de92f60": {
                    "model_module": "@jupyter-widgets/controls",
                    "model_module_version": "1.5.0",
                    "model_name": "FloatProgressModel",
                    "state": {
                        "_dom_classes": [],
                        "_model_module": "@jupyter-widgets/controls",
                        "_model_module_version": "1.5.0",
                        "_model_name": "FloatProgressModel",
                        "_view_count": null,
                        "_view_module": "@jupyter-widgets/controls",
                        "_view_module_version": "1.5.0",
                        "_view_name": "ProgressView",
                        "bar_style": "success",
                        "description": "",
                        "description_tooltip": null,
                        "layout": "IPY_MODEL_d75f60b7f0b94b3d88046ac990446ad4",
                        "max": 665,
                        "min": 0,
                        "orientation": "horizontal",
                        "style": "IPY_MODEL_609d29b907424f049de6ef0b86a6541d",
                        "value": 665
                    }
                },
                "609d29b907424f049de6ef0b86a6541d": {
                    "model_module": "@jupyter-widgets/controls",
                    "model_module_version": "1.5.0",
                    "model_name": "ProgressStyleModel",
                    "state": {
                        "_model_module": "@jupyter-widgets/controls",
                        "_model_module_version": "1.5.0",
                        "_model_name": "ProgressStyleModel",
                        "_view_count": null,
                        "_view_module": "@jupyter-widgets/base",
                        "_view_module_version": "1.2.0",
                        "_view_name": "StyleView",
                        "bar_color": null,
                        "description_width": ""
                    }
                },
                "6dc9a8ca9270413893e28e3a3807dd51": {
                    "model_module": "@jupyter-widgets/base",
                    "model_module_version": "1.2.0",
                    "model_name": "LayoutModel",
                    "state": {
                        "_model_module": "@jupyter-widgets/base",
                        "_model_module_version": "1.2.0",
                        "_model_name": "LayoutModel",
                        "_view_count": null,
                        "_view_module": "@jupyter-widgets/base",
                        "_view_module_version": "1.2.0",
                        "_view_name": "LayoutView",
                        "align_content": null,
                        "align_items": null,
                        "align_self": null,
                        "border": null,
                        "bottom": null,
                        "display": null,
                        "flex": null,
                        "flex_flow": null,
                        "grid_area": null,
                        "grid_auto_columns": null,
                        "grid_auto_flow": null,
                        "grid_auto_rows": null,
                        "grid_column": null,
                        "grid_gap": null,
                        "grid_row": null,
                        "grid_template_areas": null,
                        "grid_template_columns": null,
                        "grid_template_rows": null,
                        "height": null,
                        "justify_content": null,
                        "justify_items": null,
                        "left": null,
                        "margin": null,
                        "max_height": null,
                        "max_width": null,
                        "min_height": null,
                        "min_width": null,
                        "object_fit": null,
                        "object_position": null,
                        "order": null,
                        "overflow": null,
                        "overflow_x": null,
                        "overflow_y": null,
                        "padding": null,
                        "right": null,
                        "top": null,
                        "visibility": null,
                        "width": null
                    }
                },
                "709f853d0ae846e7945c74ff83cae52e": {
                    "model_module": "@jupyter-widgets/controls",
                    "model_module_version": "1.5.0",
                    "model_name": "HTMLModel",
                    "state": {
                        "_dom_classes": [],
                        "_model_module": "@jupyter-widgets/controls",
                        "_model_module_version": "1.5.0",
                        "_model_name": "HTMLModel",
                        "_view_count": null,
                        "_view_module": "@jupyter-widgets/controls",
                        "_view_module_version": "1.5.0",
                        "_view_name": "HTMLView",
                        "description": "",
                        "description_tooltip": null,
                        "layout": "IPY_MODEL_10420e2dba3244f48c8fcd7d35904e41",
                        "placeholder": "​",
                        "style": "IPY_MODEL_d7b1b50d3f6843be90e00d3352139b2f",
                        "value": " 1.36M/1.36M [00:00&lt;00:00, 3.65MB/s]"
                    }
                },
                "755797e4682642399c367962ba737504": {
                    "model_module": "@jupyter-widgets/controls",
                    "model_module_version": "1.5.0",
                    "model_name": "HTMLModel",
                    "state": {
                        "_dom_classes": [],
                        "_model_module": "@jupyter-widgets/controls",
                        "_model_module_version": "1.5.0",
                        "_model_name": "HTMLModel",
                        "_view_count": null,
                        "_view_module": "@jupyter-widgets/controls",
                        "_view_module_version": "1.5.0",
                        "_view_name": "HTMLView",
                        "description": "",
                        "description_tooltip": null,
                        "layout": "IPY_MODEL_eb486eb0dc2f44eabcac46a18b711ff1",
                        "placeholder": "​",
                        "style": "IPY_MODEL_3e45628539864cd2b1297c2be1d35c98",
                        "value": "Downloading (…)olve/main/vocab.json: 100%"
                    }
                },
                "792a299872704c10af8061175db96031": {
                    "model_module": "@jupyter-widgets/base",
                    "model_module_version": "1.2.0",
                    "model_name": "LayoutModel",
                    "state": {
                        "_model_module": "@jupyter-widgets/base",
                        "_model_module_version": "1.2.0",
                        "_model_name": "LayoutModel",
                        "_view_count": null,
                        "_view_module": "@jupyter-widgets/base",
                        "_view_module_version": "1.2.0",
                        "_view_name": "LayoutView",
                        "align_content": null,
                        "align_items": null,
                        "align_self": null,
                        "border": null,
                        "bottom": null,
                        "display": null,
                        "flex": null,
                        "flex_flow": null,
                        "grid_area": null,
                        "grid_auto_columns": null,
                        "grid_auto_flow": null,
                        "grid_auto_rows": null,
                        "grid_column": null,
                        "grid_gap": null,
                        "grid_row": null,
                        "grid_template_areas": null,
                        "grid_template_columns": null,
                        "grid_template_rows": null,
                        "height": null,
                        "justify_content": null,
                        "justify_items": null,
                        "left": null,
                        "margin": null,
                        "max_height": null,
                        "max_width": null,
                        "min_height": null,
                        "min_width": null,
                        "object_fit": null,
                        "object_position": null,
                        "order": null,
                        "overflow": null,
                        "overflow_x": null,
                        "overflow_y": null,
                        "padding": null,
                        "right": null,
                        "top": null,
                        "visibility": null,
                        "width": null
                    }
                },
                "7bd8740ee12a486fbb3d3ae0a2c493b8": {
                    "model_module": "@jupyter-widgets/controls",
                    "model_module_version": "1.5.0",
                    "model_name": "HTMLModel",
                    "state": {
                        "_dom_classes": [],
                        "_model_module": "@jupyter-widgets/controls",
                        "_model_module_version": "1.5.0",
                        "_model_name": "HTMLModel",
                        "_view_count": null,
                        "_view_module": "@jupyter-widgets/controls",
                        "_view_module_version": "1.5.0",
                        "_view_name": "HTMLView",
                        "description": "",
                        "description_tooltip": null,
                        "layout": "IPY_MODEL_6dc9a8ca9270413893e28e3a3807dd51",
                        "placeholder": "​",
                        "style": "IPY_MODEL_4539f47e9e4c444e9f610dea60db5eb0",
                        "value": " 665/665 [00:00&lt;00:00, 18.8kB/s]"
                    }
                },
                "7e96275c58434a04a49e56598b12656a": {
                    "model_module": "@jupyter-widgets/base",
                    "model_module_version": "1.2.0",
                    "model_name": "LayoutModel",
                    "state": {
                        "_model_module": "@jupyter-widgets/base",
                        "_model_module_version": "1.2.0",
                        "_model_name": "LayoutModel",
                        "_view_count": null,
                        "_view_module": "@jupyter-widgets/base",
                        "_view_module_version": "1.2.0",
                        "_view_name": "LayoutView",
                        "align_content": null,
                        "align_items": null,
                        "align_self": null,
                        "border": null,
                        "bottom": null,
                        "display": null,
                        "flex": null,
                        "flex_flow": null,
                        "grid_area": null,
                        "grid_auto_columns": null,
                        "grid_auto_flow": null,
                        "grid_auto_rows": null,
                        "grid_column": null,
                        "grid_gap": null,
                        "grid_row": null,
                        "grid_template_areas": null,
                        "grid_template_columns": null,
                        "grid_template_rows": null,
                        "height": null,
                        "justify_content": null,
                        "justify_items": null,
                        "left": null,
                        "margin": null,
                        "max_height": null,
                        "max_width": null,
                        "min_height": null,
                        "min_width": null,
                        "object_fit": null,
                        "object_position": null,
                        "order": null,
                        "overflow": null,
                        "overflow_x": null,
                        "overflow_y": null,
                        "padding": null,
                        "right": null,
                        "top": null,
                        "visibility": null,
                        "width": null
                    }
                },
                "8e1f2102db184538a35ed9c8498d5bbc": {
                    "model_module": "@jupyter-widgets/base",
                    "model_module_version": "1.2.0",
                    "model_name": "LayoutModel",
                    "state": {
                        "_model_module": "@jupyter-widgets/base",
                        "_model_module_version": "1.2.0",
                        "_model_name": "LayoutModel",
                        "_view_count": null,
                        "_view_module": "@jupyter-widgets/base",
                        "_view_module_version": "1.2.0",
                        "_view_name": "LayoutView",
                        "align_content": null,
                        "align_items": null,
                        "align_self": null,
                        "border": null,
                        "bottom": null,
                        "display": null,
                        "flex": null,
                        "flex_flow": null,
                        "grid_area": null,
                        "grid_auto_columns": null,
                        "grid_auto_flow": null,
                        "grid_auto_rows": null,
                        "grid_column": null,
                        "grid_gap": null,
                        "grid_row": null,
                        "grid_template_areas": null,
                        "grid_template_columns": null,
                        "grid_template_rows": null,
                        "height": null,
                        "justify_content": null,
                        "justify_items": null,
                        "left": null,
                        "margin": null,
                        "max_height": null,
                        "max_width": null,
                        "min_height": null,
                        "min_width": null,
                        "object_fit": null,
                        "object_position": null,
                        "order": null,
                        "overflow": null,
                        "overflow_x": null,
                        "overflow_y": null,
                        "padding": null,
                        "right": null,
                        "top": null,
                        "visibility": null,
                        "width": null
                    }
                },
                "94343417f60a4f9d9a745dfa2c967893": {
                    "model_module": "@jupyter-widgets/base",
                    "model_module_version": "1.2.0",
                    "model_name": "LayoutModel",
                    "state": {
                        "_model_module": "@jupyter-widgets/base",
                        "_model_module_version": "1.2.0",
                        "_model_name": "LayoutModel",
                        "_view_count": null,
                        "_view_module": "@jupyter-widgets/base",
                        "_view_module_version": "1.2.0",
                        "_view_name": "LayoutView",
                        "align_content": null,
                        "align_items": null,
                        "align_self": null,
                        "border": null,
                        "bottom": null,
                        "display": null,
                        "flex": null,
                        "flex_flow": null,
                        "grid_area": null,
                        "grid_auto_columns": null,
                        "grid_auto_flow": null,
                        "grid_auto_rows": null,
                        "grid_column": null,
                        "grid_gap": null,
                        "grid_row": null,
                        "grid_template_areas": null,
                        "grid_template_columns": null,
                        "grid_template_rows": null,
                        "height": null,
                        "justify_content": null,
                        "justify_items": null,
                        "left": null,
                        "margin": null,
                        "max_height": null,
                        "max_width": null,
                        "min_height": null,
                        "min_width": null,
                        "object_fit": null,
                        "object_position": null,
                        "order": null,
                        "overflow": null,
                        "overflow_x": null,
                        "overflow_y": null,
                        "padding": null,
                        "right": null,
                        "top": null,
                        "visibility": null,
                        "width": null
                    }
                },
                "9bf6e3e259cd4bc0bd4c714c725d0782": {
                    "model_module": "@jupyter-widgets/controls",
                    "model_module_version": "1.5.0",
                    "model_name": "DescriptionStyleModel",
                    "state": {
                        "_model_module": "@jupyter-widgets/controls",
                        "_model_module_version": "1.5.0",
                        "_model_name": "DescriptionStyleModel",
                        "_view_count": null,
                        "_view_module": "@jupyter-widgets/base",
                        "_view_module_version": "1.2.0",
                        "_view_name": "StyleView",
                        "description_width": ""
                    }
                },
                "a292f2af029c4340813e63370bf73f12": {
                    "model_module": "@jupyter-widgets/controls",
                    "model_module_version": "1.5.0",
                    "model_name": "HBoxModel",
                    "state": {
                        "_dom_classes": [],
                        "_model_module": "@jupyter-widgets/controls",
                        "_model_module_version": "1.5.0",
                        "_model_name": "HBoxModel",
                        "_view_count": null,
                        "_view_module": "@jupyter-widgets/controls",
                        "_view_module_version": "1.5.0",
                        "_view_name": "HBoxView",
                        "box_style": "",
                        "children": [
                            "IPY_MODEL_755797e4682642399c367962ba737504",
                            "IPY_MODEL_548c125bc716475ba6708fa80f5b1b61",
                            "IPY_MODEL_37cf19bcc68d41d7bc6b411cd273a88c"
                        ],
                        "layout": "IPY_MODEL_ebc4716ea8d849c58c43c26f5caf18fe"
                    }
                },
                "a8bae11fb1aa40348e611a1592e0ff0a": {
                    "model_module": "@jupyter-widgets/base",
                    "model_module_version": "1.2.0",
                    "model_name": "LayoutModel",
                    "state": {
                        "_model_module": "@jupyter-widgets/base",
                        "_model_module_version": "1.2.0",
                        "_model_name": "LayoutModel",
                        "_view_count": null,
                        "_view_module": "@jupyter-widgets/base",
                        "_view_module_version": "1.2.0",
                        "_view_name": "LayoutView",
                        "align_content": null,
                        "align_items": null,
                        "align_self": null,
                        "border": null,
                        "bottom": null,
                        "display": null,
                        "flex": null,
                        "flex_flow": null,
                        "grid_area": null,
                        "grid_auto_columns": null,
                        "grid_auto_flow": null,
                        "grid_auto_rows": null,
                        "grid_column": null,
                        "grid_gap": null,
                        "grid_row": null,
                        "grid_template_areas": null,
                        "grid_template_columns": null,
                        "grid_template_rows": null,
                        "height": null,
                        "justify_content": null,
                        "justify_items": null,
                        "left": null,
                        "margin": null,
                        "max_height": null,
                        "max_width": null,
                        "min_height": null,
                        "min_width": null,
                        "object_fit": null,
                        "object_position": null,
                        "order": null,
                        "overflow": null,
                        "overflow_x": null,
                        "overflow_y": null,
                        "padding": null,
                        "right": null,
                        "top": null,
                        "visibility": null,
                        "width": null
                    }
                },
                "afe741aff3f54ae6a89b5965888599f4": {
                    "model_module": "@jupyter-widgets/controls",
                    "model_module_version": "1.5.0",
                    "model_name": "ProgressStyleModel",
                    "state": {
                        "_model_module": "@jupyter-widgets/controls",
                        "_model_module_version": "1.5.0",
                        "_model_name": "ProgressStyleModel",
                        "_view_count": null,
                        "_view_module": "@jupyter-widgets/base",
                        "_view_module_version": "1.2.0",
                        "_view_name": "StyleView",
                        "bar_color": null,
                        "description_width": ""
                    }
                },
                "b1c406aebffa49f48c3457a9482a47a3": {
                    "model_module": "@jupyter-widgets/controls",
                    "model_module_version": "1.5.0",
                    "model_name": "ProgressStyleModel",
                    "state": {
                        "_model_module": "@jupyter-widgets/controls",
                        "_model_module_version": "1.5.0",
                        "_model_name": "ProgressStyleModel",
                        "_view_count": null,
                        "_view_module": "@jupyter-widgets/base",
                        "_view_module_version": "1.2.0",
                        "_view_name": "StyleView",
                        "bar_color": null,
                        "description_width": ""
                    }
                },
                "b2653a474569425ebb546f93241a465e": {
                    "model_module": "@jupyter-widgets/controls",
                    "model_module_version": "1.5.0",
                    "model_name": "DescriptionStyleModel",
                    "state": {
                        "_model_module": "@jupyter-widgets/controls",
                        "_model_module_version": "1.5.0",
                        "_model_name": "DescriptionStyleModel",
                        "_view_count": null,
                        "_view_module": "@jupyter-widgets/base",
                        "_view_module_version": "1.2.0",
                        "_view_name": "StyleView",
                        "description_width": ""
                    }
                },
                "bbdfb7b736f546fea9f2a56a815a8e8f": {
                    "model_module": "@jupyter-widgets/controls",
                    "model_module_version": "1.5.0",
                    "model_name": "HBoxModel",
                    "state": {
                        "_dom_classes": [],
                        "_model_module": "@jupyter-widgets/controls",
                        "_model_module_version": "1.5.0",
                        "_model_name": "HBoxModel",
                        "_view_count": null,
                        "_view_module": "@jupyter-widgets/controls",
                        "_view_module_version": "1.5.0",
                        "_view_name": "HBoxView",
                        "box_style": "",
                        "children": [
                            "IPY_MODEL_0dc1dea99b774b74a84c9c02b6335b94",
                            "IPY_MODEL_5edb09d55e7b45c881bbf6a38de92f60",
                            "IPY_MODEL_7bd8740ee12a486fbb3d3ae0a2c493b8"
                        ],
                        "layout": "IPY_MODEL_fa9eff66d6084f0a970408b620afa686"
                    }
                },
                "d75f60b7f0b94b3d88046ac990446ad4": {
                    "model_module": "@jupyter-widgets/base",
                    "model_module_version": "1.2.0",
                    "model_name": "LayoutModel",
                    "state": {
                        "_model_module": "@jupyter-widgets/base",
                        "_model_module_version": "1.2.0",
                        "_model_name": "LayoutModel",
                        "_view_count": null,
                        "_view_module": "@jupyter-widgets/base",
                        "_view_module_version": "1.2.0",
                        "_view_name": "LayoutView",
                        "align_content": null,
                        "align_items": null,
                        "align_self": null,
                        "border": null,
                        "bottom": null,
                        "display": null,
                        "flex": null,
                        "flex_flow": null,
                        "grid_area": null,
                        "grid_auto_columns": null,
                        "grid_auto_flow": null,
                        "grid_auto_rows": null,
                        "grid_column": null,
                        "grid_gap": null,
                        "grid_row": null,
                        "grid_template_areas": null,
                        "grid_template_columns": null,
                        "grid_template_rows": null,
                        "height": null,
                        "justify_content": null,
                        "justify_items": null,
                        "left": null,
                        "margin": null,
                        "max_height": null,
                        "max_width": null,
                        "min_height": null,
                        "min_width": null,
                        "object_fit": null,
                        "object_position": null,
                        "order": null,
                        "overflow": null,
                        "overflow_x": null,
                        "overflow_y": null,
                        "padding": null,
                        "right": null,
                        "top": null,
                        "visibility": null,
                        "width": null
                    }
                },
                "d7b1b50d3f6843be90e00d3352139b2f": {
                    "model_module": "@jupyter-widgets/controls",
                    "model_module_version": "1.5.0",
                    "model_name": "DescriptionStyleModel",
                    "state": {
                        "_model_module": "@jupyter-widgets/controls",
                        "_model_module_version": "1.5.0",
                        "_model_name": "DescriptionStyleModel",
                        "_view_count": null,
                        "_view_module": "@jupyter-widgets/base",
                        "_view_module_version": "1.2.0",
                        "_view_name": "StyleView",
                        "description_width": ""
                    }
                },
                "eb486eb0dc2f44eabcac46a18b711ff1": {
                    "model_module": "@jupyter-widgets/base",
                    "model_module_version": "1.2.0",
                    "model_name": "LayoutModel",
                    "state": {
                        "_model_module": "@jupyter-widgets/base",
                        "_model_module_version": "1.2.0",
                        "_model_name": "LayoutModel",
                        "_view_count": null,
                        "_view_module": "@jupyter-widgets/base",
                        "_view_module_version": "1.2.0",
                        "_view_name": "LayoutView",
                        "align_content": null,
                        "align_items": null,
                        "align_self": null,
                        "border": null,
                        "bottom": null,
                        "display": null,
                        "flex": null,
                        "flex_flow": null,
                        "grid_area": null,
                        "grid_auto_columns": null,
                        "grid_auto_flow": null,
                        "grid_auto_rows": null,
                        "grid_column": null,
                        "grid_gap": null,
                        "grid_row": null,
                        "grid_template_areas": null,
                        "grid_template_columns": null,
                        "grid_template_rows": null,
                        "height": null,
                        "justify_content": null,
                        "justify_items": null,
                        "left": null,
                        "margin": null,
                        "max_height": null,
                        "max_width": null,
                        "min_height": null,
                        "min_width": null,
                        "object_fit": null,
                        "object_position": null,
                        "order": null,
                        "overflow": null,
                        "overflow_x": null,
                        "overflow_y": null,
                        "padding": null,
                        "right": null,
                        "top": null,
                        "visibility": null,
                        "width": null
                    }
                },
                "ebc4716ea8d849c58c43c26f5caf18fe": {
                    "model_module": "@jupyter-widgets/base",
                    "model_module_version": "1.2.0",
                    "model_name": "LayoutModel",
                    "state": {
                        "_model_module": "@jupyter-widgets/base",
                        "_model_module_version": "1.2.0",
                        "_model_name": "LayoutModel",
                        "_view_count": null,
                        "_view_module": "@jupyter-widgets/base",
                        "_view_module_version": "1.2.0",
                        "_view_name": "LayoutView",
                        "align_content": null,
                        "align_items": null,
                        "align_self": null,
                        "border": null,
                        "bottom": null,
                        "display": null,
                        "flex": null,
                        "flex_flow": null,
                        "grid_area": null,
                        "grid_auto_columns": null,
                        "grid_auto_flow": null,
                        "grid_auto_rows": null,
                        "grid_column": null,
                        "grid_gap": null,
                        "grid_row": null,
                        "grid_template_areas": null,
                        "grid_template_columns": null,
                        "grid_template_rows": null,
                        "height": null,
                        "justify_content": null,
                        "justify_items": null,
                        "left": null,
                        "margin": null,
                        "max_height": null,
                        "max_width": null,
                        "min_height": null,
                        "min_width": null,
                        "object_fit": null,
                        "object_position": null,
                        "order": null,
                        "overflow": null,
                        "overflow_x": null,
                        "overflow_y": null,
                        "padding": null,
                        "right": null,
                        "top": null,
                        "visibility": null,
                        "width": null
                    }
                },
                "ef339a504f984cc2ac07c8252aa2f6d5": {
                    "model_module": "@jupyter-widgets/controls",
                    "model_module_version": "1.5.0",
                    "model_name": "HTMLModel",
                    "state": {
                        "_dom_classes": [],
                        "_model_module": "@jupyter-widgets/controls",
                        "_model_module_version": "1.5.0",
                        "_model_name": "HTMLModel",
                        "_view_count": null,
                        "_view_module": "@jupyter-widgets/controls",
                        "_view_module_version": "1.5.0",
                        "_view_name": "HTMLView",
                        "description": "",
                        "description_tooltip": null,
                        "layout": "IPY_MODEL_a8bae11fb1aa40348e611a1592e0ff0a",
                        "placeholder": "​",
                        "style": "IPY_MODEL_9bf6e3e259cd4bc0bd4c714c725d0782",
                        "value": " 456k/456k [00:00&lt;00:00, 1.84MB/s]"
                    }
                },
                "f0963a05a29d4e6f8a2ab48fc8a26a1d": {
                    "model_module": "@jupyter-widgets/controls",
                    "model_module_version": "1.5.0",
                    "model_name": "HTMLModel",
                    "state": {
                        "_dom_classes": [],
                        "_model_module": "@jupyter-widgets/controls",
                        "_model_module_version": "1.5.0",
                        "_model_name": "HTMLModel",
                        "_view_count": null,
                        "_view_module": "@jupyter-widgets/controls",
                        "_view_module_version": "1.5.0",
                        "_view_name": "HTMLView",
                        "description": "",
                        "description_tooltip": null,
                        "layout": "IPY_MODEL_7e96275c58434a04a49e56598b12656a",
                        "placeholder": "​",
                        "style": "IPY_MODEL_b2653a474569425ebb546f93241a465e",
                        "value": "Downloading (…)olve/main/merges.txt: 100%"
                    }
                },
                "f6331afe201d49319b76e528e01a9b4b": {
                    "model_module": "@jupyter-widgets/controls",
                    "model_module_version": "1.5.0",
                    "model_name": "DescriptionStyleModel",
                    "state": {
                        "_model_module": "@jupyter-widgets/controls",
                        "_model_module_version": "1.5.0",
                        "_model_name": "DescriptionStyleModel",
                        "_view_count": null,
                        "_view_module": "@jupyter-widgets/base",
                        "_view_module_version": "1.2.0",
                        "_view_name": "StyleView",
                        "description_width": ""
                    }
                },
                "fa9eff66d6084f0a970408b620afa686": {
                    "model_module": "@jupyter-widgets/base",
                    "model_module_version": "1.2.0",
                    "model_name": "LayoutModel",
                    "state": {
                        "_model_module": "@jupyter-widgets/base",
                        "_model_module_version": "1.2.0",
                        "_model_name": "LayoutModel",
                        "_view_count": null,
                        "_view_module": "@jupyter-widgets/base",
                        "_view_module_version": "1.2.0",
                        "_view_name": "LayoutView",
                        "align_content": null,
                        "align_items": null,
                        "align_self": null,
                        "border": null,
                        "bottom": null,
                        "display": null,
                        "flex": null,
                        "flex_flow": null,
                        "grid_area": null,
                        "grid_auto_columns": null,
                        "grid_auto_flow": null,
                        "grid_auto_rows": null,
                        "grid_column": null,
                        "grid_gap": null,
                        "grid_row": null,
                        "grid_template_areas": null,
                        "grid_template_columns": null,
                        "grid_template_rows": null,
                        "height": null,
                        "justify_content": null,
                        "justify_items": null,
                        "left": null,
                        "margin": null,
                        "max_height": null,
                        "max_width": null,
                        "min_height": null,
                        "min_width": null,
                        "object_fit": null,
                        "object_position": null,
                        "order": null,
                        "overflow": null,
                        "overflow_x": null,
                        "overflow_y": null,
                        "padding": null,
                        "right": null,
                        "top": null,
                        "visibility": null,
                        "width": null
                    }
                }
            }
        }
    },
    "nbformat": 4,
    "nbformat_minor": 5
}
