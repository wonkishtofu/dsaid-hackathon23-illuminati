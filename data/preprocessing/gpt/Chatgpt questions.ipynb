{
 "cells": [
  {
   "cell_type": "code",
   "execution_count": 16,
   "id": "ce24f8c2",
   "metadata": {},
   "outputs": [],
   "source": [
    "#!pip install openai\n",
    "#!pip install python-dotenv\n",
    "#!pip install tenacity"
   ]
  },
  {
   "cell_type": "markdown",
   "id": "5cd545fa",
   "metadata": {},
   "source": [
    "#### Instructions to save openai API key\n",
    "\n",
    "1. Create a .env file in the same folder as your script (save a .txt file in the .env format).\n",
    "2. The .env file should contain the following:\n",
    "- OPENAI_API_KEY = \"exampleapikey123\""
   ]
  },
  {
   "cell_type": "code",
   "execution_count": 174,
   "id": "f5b7f99c",
   "metadata": {},
   "outputs": [],
   "source": [
    "import os\n",
    "import openai\n",
    "from dotenv import load_dotenv, find_dotenv\n",
    "import pandas as pd\n",
    "from tenacity import (\n",
    "    retry,\n",
    "    stop_after_attempt,\n",
    "    wait_random_exponential,\n",
    ")  # for exponential backoff (to overcome rate limit)\n",
    "\n",
    "import json"
   ]
  },
  {
   "cell_type": "code",
   "execution_count": 132,
   "id": "1597b29a",
   "metadata": {},
   "outputs": [],
   "source": [
    "_ = load_dotenv(find_dotenv()) # read local .env file\n",
    "\n",
    "openai.api_key  = os.environ['OPENAI_API_KEY']"
   ]
  },
  {
   "cell_type": "code",
   "execution_count": 44,
   "id": "14882ca1",
   "metadata": {},
   "outputs": [],
   "source": [
    "speeches = pd.read_csv(\"~/Documents/Work/dsaid-hackathon23-illuminati/data/preprocessing/website/MTI/MTI_speeches_PQs_scraped.csv\")"
   ]
  },
  {
   "cell_type": "code",
   "execution_count": 157,
   "id": "59eff2cc",
   "metadata": {},
   "outputs": [],
   "source": [
    "#Exponential backoff decorator\n",
    "@retry(wait=wait_random_exponential(min=40, max=80), stop=stop_after_attempt(10))\n",
    "def completion_with_backoff(**kwargs):\n",
    "    return openai.Completion.create(**kwargs)"
   ]
  },
  {
   "cell_type": "code",
   "execution_count": 158,
   "id": "4cad7ea4",
   "metadata": {},
   "outputs": [],
   "source": [
    "#Helper function to get returns from gpt\n",
    "def get_message_completion(messages, \n",
    "                     model=\"gpt-3.5-turbo\", \n",
    "                     temperature=0, \n",
    "                     max_tokens=500,\n",
    "                     num_pairings=100\n",
    "                    ):\n",
    "\n",
    "    response = completion_with_backoff(\n",
    "        model=model,\n",
    "        messages=messages,\n",
    "        temperature=temperature, # this is the degree of randomness of the model's output\n",
    "        max_tokens=max_tokens, # the maximum number of tokens the model can ouptut \n",
    "    )\n",
    "    return response.choices[0].message[\"content\"]"
   ]
  },
  {
   "cell_type": "markdown",
   "id": "96d4e98b",
   "metadata": {},
   "source": [
    "### Step 1. Summarise relevant lines\n",
    "\n",
    "This is to create a more focused corpus out of documents that contain other unrelated info. \n",
    "\n",
    "Note: This section will take some time as we have deliberately slowed down the process to overcome Openai's rate limit."
   ]
  },
  {
   "cell_type": "code",
   "execution_count": 159,
   "id": "a74910bd",
   "metadata": {},
   "outputs": [],
   "source": [
    "extracts = {}"
   ]
  },
  {
   "cell_type": "code",
   "execution_count": 160,
   "id": "183124a0",
   "metadata": {},
   "outputs": [
    {
     "name": "stdout",
     "output_type": "stream",
     "text": [
      "'Speech by Minister Gan Kim Yong at the Joint Segment on the Singapore Green Plan Committee of Supply Debate 2022' was not summarised. Error message: Rate limit reached for default-gpt-3.5-turbo in organization org-SHvsJN8OOskXue0vz7OnYqdY on requests per min. Limit: 3 / min. Please try again in 20s. Contact us through our help center at help.openai.com if you continue to have issues. Please add a payment method to your account to increase your rate limit. Visit https://platform.openai.com/account/billing to add a payment method.'\n",
      "'Speech by MOS Low Yen Ling at the Opening Ceremony of Sembcorp Tuas Solar Farm' was not summarised. Error message: Rate limit reached for default-gpt-3.5-turbo in organization org-SHvsJN8OOskXue0vz7OnYqdY on requests per min. Limit: 3 / min. Please try again in 20s. Contact us through our help center at help.openai.com if you continue to have issues. Please add a payment method to your account to increase your rate limit. Visit https://platform.openai.com/account/billing to add a payment method.'\n",
      "'Speech by MOS Low Yen Ling at Energy Innovation 2022' was not summarised. Error message: Rate limit reached for default-gpt-3.5-turbo in organization org-SHvsJN8OOskXue0vz7OnYqdY on requests per min. Limit: 3 / min. Please try again in 20s. Contact us through our help center at help.openai.com if you continue to have issues. Please add a payment method to your account to increase your rate limit. Visit https://platform.openai.com/account/billing to add a payment method.'\n",
      "'Speech by 2M Tan See Leng at the Asia Clean Energy Summit at Singapore International Energy Week' was not summarised. Error message: Rate limit reached for default-gpt-3.5-turbo in organization org-SHvsJN8OOskXue0vz7OnYqdY on requests per min. Limit: 3 / min. Please try again in 20s. Contact us through our help center at help.openai.com if you continue to have issues. Please add a payment method to your account to increase your rate limit. Visit https://platform.openai.com/account/billing to add a payment method.'\n",
      "'Opening Remarks by 2M Tan See Leng at the 2nd Singapore-IRENA High level Forum' was not summarised. Error message: Rate limit reached for default-gpt-3.5-turbo in organization org-SHvsJN8OOskXue0vz7OnYqdY on requests per min. Limit: 3 / min. Please try again in 20s. Contact us through our help center at help.openai.com if you continue to have issues. Please add a payment method to your account to increase your rate limit. Visit https://platform.openai.com/account/billing to add a payment method.'\n",
      "'Speech by MOS Low Yen Ling at Youth@SIEW 2022 at Singapore International Energy Week' was not summarised. Error message: Rate limit reached for default-gpt-3.5-turbo in organization org-SHvsJN8OOskXue0vz7OnYqdY on requests per min. Limit: 3 / min. Please try again in 20s. Contact us through our help center at help.openai.com if you continue to have issues. Please add a payment method to your account to increase your rate limit. Visit https://platform.openai.com/account/billing to add a payment method.'\n",
      "'Speech by 2M Tan See Leng Guest-of-Honour at the Official Launch of Sembcorp Energy Storage System' was not summarised. Error message: Rate limit reached for default-gpt-3.5-turbo in organization org-SHvsJN8OOskXue0vz7OnYqdY on requests per min. Limit: 3 / min. Please try again in 20s. Contact us through our help center at help.openai.com if you continue to have issues. Please add a payment method to your account to increase your rate limit. Visit https://platform.openai.com/account/billing to add a payment method.'\n",
      "'Speech by Second Minister for Trade and Industry Tan See Leng at Ministry of Trade and Industry (MTI)'s Committee of Supply Debate 2023' was not summarised. Error message: Rate limit reached for default-gpt-3.5-turbo in organization org-SHvsJN8OOskXue0vz7OnYqdY on requests per min. Limit: 3 / min. Please try again in 20s. Contact us through our help center at help.openai.com if you continue to have issues. Please add a payment method to your account to increase your rate limit. Visit https://platform.openai.com/account/billing to add a payment method.'\n",
      "'Written reply to PQ on 2030 targets for generating electricity with solar energy' was not summarised. Error message: Rate limit reached for default-gpt-3.5-turbo in organization org-SHvsJN8OOskXue0vz7OnYqdY on requests per min. Limit: 3 / min. Please try again in 20s. Contact us through our help center at help.openai.com if you continue to have issues. Please add a payment method to your account to increase your rate limit. Visit https://platform.openai.com/account/billing to add a payment method.'\n",
      "'Written reply to PQ on the Adoption Rate of Solar Photovoltaic (PV) Systems' was not summarised. Error message: Rate limit reached for default-gpt-3.5-turbo in organization org-SHvsJN8OOskXue0vz7OnYqdY on requests per min. Limit: 3 / min. Please try again in 20s. Contact us through our help center at help.openai.com if you continue to have issues. Please add a payment method to your account to increase your rate limit. Visit https://platform.openai.com/account/billing to add a payment method.'\n",
      "'Written reply to PQ on Solar Energy' was not summarised. Error message: Rate limit reached for default-gpt-3.5-turbo in organization org-SHvsJN8OOskXue0vz7OnYqdY on requests per min. Limit: 3 / min. Please try again in 20s. Contact us through our help center at help.openai.com if you continue to have issues. Please add a payment method to your account to increase your rate limit. Visit https://platform.openai.com/account/billing to add a payment method.'\n",
      "'Ministerial Statement by Second Minister for Trade and Industry Dr Tan See Leng for Parliament Sitting on 4 April 2022' was not summarised. Error message: Rate limit reached for default-gpt-3.5-turbo in organization org-SHvsJN8OOskXue0vz7OnYqdY on requests per min. Limit: 3 / min. Please try again in 20s. Contact us through our help center at help.openai.com if you continue to have issues. Please add a payment method to your account to increase your rate limit. Visit https://platform.openai.com/account/billing to add a payment method.'\n",
      "'Written reply to PQs on LNG and electricity' was not summarised. Error message: Rate limit reached for default-gpt-3.5-turbo in organization org-SHvsJN8OOskXue0vz7OnYqdY on requests per min. Limit: 3 / min. Please try again in 20s. Contact us through our help center at help.openai.com if you continue to have issues. Please add a payment method to your account to increase your rate limit. Visit https://platform.openai.com/account/billing to add a payment method.'\n",
      "'Written reply to PQ on Enterprise Financing Scheme Green' was not summarised. Error message: Rate limit reached for default-gpt-3.5-turbo in organization org-SHvsJN8OOskXue0vz7OnYqdY on requests per min. Limit: 3 / min. Please try again in 20s. Contact us through our help center at help.openai.com if you continue to have issues. Please add a payment method to your account to increase your rate limit. Visit https://platform.openai.com/account/billing to add a payment method.'\n",
      "'Oral reply to PQ on Enhanced Central Intermediary Scheme' was not summarised. Error message: Rate limit reached for default-gpt-3.5-turbo in organization org-SHvsJN8OOskXue0vz7OnYqdY on requests per min. Limit: 3 / min. Please try again in 20s. Contact us through our help center at help.openai.com if you continue to have issues. Please add a payment method to your account to increase your rate limit. Visit https://platform.openai.com/account/billing to add a payment method.'\n",
      "'Written reply to PQ on renewable energy production' was not summarised. Error message: Rate limit reached for default-gpt-3.5-turbo in organization org-SHvsJN8OOskXue0vz7OnYqdY on requests per min. Limit: 3 / min. Please try again in 20s. Contact us through our help center at help.openai.com if you continue to have issues. Please add a payment method to your account to increase your rate limit. Visit https://platform.openai.com/account/billing to add a payment method.'\n",
      "'Written reply to PQ on resale of excess power' was not summarised. Error message: Rate limit reached for default-gpt-3.5-turbo in organization org-SHvsJN8OOskXue0vz7OnYqdY on requests per min. Limit: 3 / min. Please try again in 20s. Contact us through our help center at help.openai.com if you continue to have issues. Please add a payment method to your account to increase your rate limit. Visit https://platform.openai.com/account/billing to add a payment method.'\n"
     ]
    },
    {
     "name": "stdout",
     "output_type": "stream",
     "text": [
      "'Oral reply to PQ on energy and electricity' was not summarised. Error message: Rate limit reached for default-gpt-3.5-turbo in organization org-SHvsJN8OOskXue0vz7OnYqdY on requests per min. Limit: 3 / min. Please try again in 20s. Contact us through our help center at help.openai.com if you continue to have issues. Please add a payment method to your account to increase your rate limit. Visit https://platform.openai.com/account/billing to add a payment method.'\n",
      "'Written reply to PQs on Sun Cable' was not summarised. Error message: Rate limit reached for default-gpt-3.5-turbo in organization org-SHvsJN8OOskXue0vz7OnYqdY on requests per min. Limit: 3 / min. Please try again in 20s. Contact us through our help center at help.openai.com if you continue to have issues. Please add a payment method to your account to increase your rate limit. Visit https://platform.openai.com/account/billing to add a payment method.'\n"
     ]
    }
   ],
   "source": [
    "for i in range(len(speeches['Content'])):\n",
    "    \n",
    "    try:\n",
    "        #Set messages for chatgpt\n",
    "        messages =  [  \n",
    "        {'role':'system', \n",
    "         'content':f\"\"\"Please refer to the speech provided: {speeches['Content'][i].strip()}\"\"\"},    \n",
    "        {'role':'user', \n",
    "         'content':f\"\"\"Summarise the most relevant lines related to solar energy or solar panels. \\\n",
    "         Make sure to retain key statistics or figures.\"\"\"},  \n",
    "        ] \n",
    "        \n",
    "        #Obtain gpt response\n",
    "        response = get_completion_from_messages(messages, max_tokens = 500)\n",
    "        \n",
    "        #Save to dictionary\n",
    "        extracts[speeches['Title'][i]] = response\n",
    "    except Exception as e:\n",
    "        print(f\"'{speeches['Title'][i]}' was not summarised. Error message: {e}'\")"
   ]
  },
  {
   "cell_type": "code",
   "execution_count": 161,
   "id": "630ce767",
   "metadata": {},
   "outputs": [
    {
     "data": {
      "text/plain": [
       "11"
      ]
     },
     "execution_count": 161,
     "metadata": {},
     "output_type": "execute_result"
    }
   ],
   "source": [
    "len(extracts)"
   ]
  },
  {
   "cell_type": "code",
   "execution_count": 220,
   "id": "d19af997",
   "metadata": {},
   "outputs": [],
   "source": [
    "extracts_df = pd.DataFrame(\n",
    "    [(k, val) for k, val in extracts.items()], \n",
    "    columns=['Title', 'Summary']\n",
    ")\n",
    "\n",
    "extracts_df.to_csv(\"MTI_speeches_PQs_summaries_sample.csv\")"
   ]
  },
  {
   "cell_type": "markdown",
   "id": "476c6b63",
   "metadata": {},
   "source": [
    "### Step 2. Generate question and answer pairings from summaries\n",
    "\n",
    "Note: This section will take some time as we have deliberately slowed down the process to overcome Openai's rate limit."
   ]
  },
  {
   "cell_type": "code",
   "execution_count": 213,
   "id": "4e52d3bc",
   "metadata": {},
   "outputs": [],
   "source": [
    "qna = {}\n",
    "num_qna = 10 #Set number of Q&As"
   ]
  },
  {
   "cell_type": "code",
   "execution_count": 214,
   "id": "7b2bf839",
   "metadata": {},
   "outputs": [
    {
     "name": "stdout",
     "output_type": "stream",
     "text": [
      "Did not generate Q&As for'Speech by 2M Tan See Leng at the Asia Clean Energy Summit'. Error message: The server had an error while processing your request. Sorry about that!'\n",
      "{\n",
      "  \"1\": {\n",
      "    \"question\": \"What is Singapore's most viable form of renewable energy?\",\n",
      "    \"answer\": \"Solar energy is Singapore's most viable form of renewable energy.\"\n",
      "  },\n",
      "  \"2\": {\n",
      "    \"question\": \"What are the constraints for harnessing solar energy in Singapore?\",\n",
      "    \"answer\": \"Singapore has heavy cloud cover and limited land available to harness solar energy.\"\n",
      "  },\n",
      "  \"3\": {\n",
      "    \"question\": \"What measures has Singapore put in place to reduce the power sector's carbon footprint?\",\n",
      "    \"answer\": \"Singapore has put in place measures to enhance the energy efficiency of existing power generation plants.\"\n",
      "  },\n",
      "  \"4\": {\n",
      "    \"question\": \"What is the primary source of electricity generation in Singapore?\",\n",
      "    \"answer\": \"Currently, about 95% of Singapore's electricity is generated using natural gas, the cleanest fossil fuel to date.\"\n",
      "  },\n",
      "  \"5\": {\n",
      "    \"question\": \"What is Singapore's target for installed solar capacity by 2030?\",\n",
      "    \"answer\": \"Singapore's target is to have at least 2 giga-watt peak of installed capacity by 2030.\"\n",
      "  },\n",
      "  \"6\": {\n",
      "    \"question\": \"Is Singapore on track to achieve its solar deployment target?\",\n",
      "    \"answer\": \"Yes, Singapore is on track to quadruple its solar panel deployment and achieve its target of at least 2 giga-watt peak of installed capacity by 2030.\"\n",
      "  },\n",
      "  \"7\": {\n",
      "    \"question\": \"What is Singapore reviewing in relation to solar deployment?\",\n",
      "    \"answer\": \"Singapore is reviewing its plans to further accelerate solar deployment.\"\n",
      "  },\n",
      "  \"8\": {\n",
      "    \"question\": \"What percentage of Singapore's electricity is generated using natural gas?\",\n",
      "    \"answer\": \"Currently, about 95% of Singapore's electricity is generated using natural gas.\"\n",
      "  },\n",
      "  \"9\": {\n",
      "    \"question\": \"What is the cleanest fossil fuel to date?\",\n",
      "    \"answer\": \"Natural gas is the cleanest fossil fuel to date.\"\n",
      "  },\n",
      "  \"10\": {\n",
      "    \"question\": \"What is Singapore's primary focus in terms of renewable energy?\",\n",
      "    \"answer\": \"Singapore's primary focus in terms of renewable energy is solar energy.\"\n",
      "  }\n",
      "}\n"
     ]
    }
   ],
   "source": [
    "for t, s in extracts.items():\n",
    "    \n",
    "    try:\n",
    "        #Set messages for chatgpt\n",
    "        messages =  [  \n",
    "        {'role':'system', \n",
    "         'content':f\"\"\"Please refer to the content provided: {s.strip()}\"\"\"},    \n",
    "        {'role':'user', \n",
    "         'content':f\"\"\"# Create a JSON of {num_qna} pairs of questions and answers based on this summary. \\\n",
    "         The key value pairs should be the question and answer.\"\"\"},  \n",
    "        ] \n",
    "        \n",
    "        #Obtain gpt response\n",
    "        response = get_completion_from_messages(messages, max_tokens = 1000)\n",
    "        \n",
    "        #Convert response to JSON and then dictionary\n",
    "        qna_dict = dict(json.loads(response))\n",
    "        \n",
    "        #Create list of tuples based on q&a pairings and save to dictionary\n",
    "        qna[t] = [(qna_dict[k]['question'], qna_dict[k]['answer']) for k in qna_dict.keys()] \n",
    "        \n",
    "    except Exception as e:\n",
    "        print(f\"Did not generate Q&As for'{t}'. Error message: {e}'\")\n",
    "        print(response)"
   ]
  },
  {
   "cell_type": "code",
   "execution_count": 215,
   "id": "5b687b0d",
   "metadata": {},
   "outputs": [
    {
     "data": {
      "text/plain": [
       "10"
      ]
     },
     "execution_count": 215,
     "metadata": {},
     "output_type": "execute_result"
    }
   ],
   "source": [
    "len(qna)"
   ]
  },
  {
   "cell_type": "code",
   "execution_count": 217,
   "id": "b9622f19",
   "metadata": {},
   "outputs": [],
   "source": [
    "#Create df and save to csv\n",
    "qna_df = pd.DataFrame(qna)\n",
    "qna_melt = pd.melt(qna_df, value_vars = [k for k in qna.keys()], var_name = \"Title\")\n",
    "qna_melt['Questions'], qna_melt['answers'] = zip(*qna_melt['value'])\n",
    "qna_melt = qna_melt.drop('value', axis = 1)\n",
    "\n",
    "\n",
    "qna_melt.to_csv(\"MTI_speeches_PQ_qna_sample.csv\")"
   ]
  },
  {
   "cell_type": "markdown",
   "id": "ee8edf86",
   "metadata": {},
   "source": [
    "### To-do / issues:\n",
    "\n",
    "1. Quite a bit of duplicate content. Should we remove those? Possible to remove using Chatgpt/langchain?\n",
    "2. Rate limit of 3/min and max tokens (4097) is very low and limiting. Could try to batch requests? Exponential backoff method didn't quite work.\n",
    "3. Other errors as above (e.g. server error)"
   ]
  }
 ],
 "metadata": {
  "kernelspec": {
   "display_name": "Python 3",
   "language": "python",
   "name": "python3"
  },
  "language_info": {
   "codemirror_mode": {
    "name": "ipython",
    "version": 3
   },
   "file_extension": ".py",
   "mimetype": "text/x-python",
   "name": "python",
   "nbconvert_exporter": "python",
   "pygments_lexer": "ipython3",
   "version": "3.8.8"
  }
 },
 "nbformat": 4,
 "nbformat_minor": 5
}
