{
 "cells": [
  {
   "cell_type": "code",
   "execution_count": null,
   "id": "4fe668be",
   "metadata": {},
   "outputs": [],
   "source": [
    "#!pip install html2text #required for SimpleWebPageReader to work"
   ]
  },
  {
   "cell_type": "code",
   "execution_count": 2,
   "id": "33e545eb",
   "metadata": {},
   "outputs": [],
   "source": [
    "from pathlib import Path\n",
    "import os\n",
    "from llama_index import (\n",
    "    download_loader,\n",
    "    SimpleWebPageReader\n",
    ")\n",
    "\n",
    "import pandas as pd"
   ]
  },
  {
   "cell_type": "code",
   "execution_count": 3,
   "id": "e6303400",
   "metadata": {},
   "outputs": [],
   "source": [
    "# Params\n",
    "data_folder = \"SolarBot Master Datasets\"\n",
    "websites_metadata_path = \"websites_metadata.xlsx\"\n",
    "pdf_metadata_path = \"pdf_metadata.xlsx\""
   ]
  },
  {
   "cell_type": "code",
   "execution_count": 4,
   "id": "7b575b5e",
   "metadata": {},
   "outputs": [],
   "source": [
    "# Load metadata mapping tables\n",
    "websites_metadata = pd.read_excel(os.path.join(data_folder, websites_metadata_path))\n",
    "pdf_metadata = pd.read_excel(os.path.join(data_folder, pdf_metadata_path))\n",
    "\n",
    "#Merge the files\n",
    "full_metadata = pd.concat([websites_metadata, pdf_metadata])"
   ]
  },
  {
   "cell_type": "code",
   "execution_count": 5,
   "id": "150f68e7",
   "metadata": {},
   "outputs": [],
   "source": [
    "# Function to return metadata\n",
    "def get_file_metadata(file_name: str, mapping: pd.DataFrame):\n",
    "    \"\"\"Get file metadata.\"\"\"\n",
    "    date = mapping[mapping['file_path'] == file_name]['date'].values[0]\n",
    "    category = mapping[mapping['file_path'] == file_name]['category'].values[0]\n",
    "    metadata = {'date': date, 'category': category}\n",
    "    \n",
    "    return metadata"
   ]
  },
  {
   "cell_type": "code",
   "execution_count": 7,
   "id": "11ebed44",
   "metadata": {},
   "outputs": [
    {
     "name": "stderr",
     "output_type": "stream",
     "text": [
      "[nltk_data] Downloading package punkt to C:\\Users\\Zhong\n",
      "[nltk_data]     Xuean\\AppData\\Roaming\\nltk_data...\n",
      "[nltk_data]   Package punkt is already up-to-date!\n",
      "[nltk_data] Downloading package averaged_perceptron_tagger to\n",
      "[nltk_data]     C:\\Users\\Zhong Xuean\\AppData\\Roaming\\nltk_data...\n",
      "[nltk_data]   Package averaged_perceptron_tagger is already up-to-\n",
      "[nltk_data]       date!\n"
     ]
    }
   ],
   "source": [
    "#Obtain full list of docs\n",
    "doc_list = full_metadata['file_path']\n",
    "\n",
    "#Instantiate loaders\n",
    "YoutubeTranscriptReader = download_loader(\"YoutubeTranscriptReader\")\n",
    "yt_loader = YoutubeTranscriptReader()\n",
    "\n",
    "UnstructuredReader = download_loader(\"UnstructuredReader\", refresh_cache=True)\n",
    "unstructured_loader = UnstructuredReader()\n",
    "\n",
    "# Alternative pdf reader\n",
    "# PDFReader = download_loader(\"PDFReader\")\n",
    "# pdf_loader = PDFReader()\n",
    "\n",
    "# Load in all documents sequentially\n",
    "doc_set = {}\n",
    "all_docs = []\n",
    "\n",
    "for file in doc_list:\n",
    "    \n",
    "    if \"youtube\" in file:\n",
    "        doc = yt_loader.load_data(ytlinks=[file])\n",
    "    elif \"https://\" in file:\n",
    "        doc =  SimpleWebPageReader(html_to_text=True).load_data([file])\n",
    "    else:\n",
    "        doc = unstructured_loader.load_data(file=Path(os.path.join(data_folder, file)), split_documents=False)\n",
    "        \n",
    "    # Insert metadata info\n",
    "    for d in doc:\n",
    "        d.extra_info = get_file_metadata(file, full_metadata)\n",
    "        \n",
    "    doc_set[file] = doc\n",
    "    all_docs.extend(doc)"
   ]
  }
 ],
 "metadata": {
  "kernelspec": {
   "display_name": "Python 3 (ipykernel)",
   "language": "python",
   "name": "python3"
  },
  "language_info": {
   "codemirror_mode": {
    "name": "ipython",
    "version": 3
   },
   "file_extension": ".py",
   "mimetype": "text/x-python",
   "name": "python",
   "nbconvert_exporter": "python",
   "pygments_lexer": "ipython3",
   "version": "3.9.12"
  }
 },
 "nbformat": 4,
 "nbformat_minor": 5
}
