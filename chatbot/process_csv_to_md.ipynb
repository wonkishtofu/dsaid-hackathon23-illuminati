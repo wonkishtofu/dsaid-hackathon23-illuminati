{
 "cells": [
  {
   "cell_type": "code",
   "execution_count": 1,
   "metadata": {},
   "outputs": [],
   "source": [
    "import pandas as pd\n",
    "\n",
    "# Read the CSV file into a DataFrame\n",
    "df = pd.read_csv('./data/test_data/selected_csv/chatgpt_qa_table.csv')\n",
    "\n",
    "# Create a Markdown string to store the converted content\n",
    "markdown = ''\n",
    "\n",
    "# Iterate over each row in the DataFrame\n",
    "for index, row in df.iterrows():\n",
    "    # Extract the header and content values from the row\n",
    "    header = row['Question']\n",
    "    content = row['Answer']\n",
    "\n",
    "    # Add the header and content to the Markdown string\n",
    "    markdown += f'## {header}\\n\\n{content}\\n\\n'\n",
    "\n",
    "# Write the Markdown string to a file\n",
    "with open('./data/test_data/selected_md/output.md', 'w') as f:\n",
    "    f.write(markdown)\n"
   ]
  },
  {
   "cell_type": "code",
   "execution_count": 3,
   "metadata": {},
   "outputs": [
    {
     "name": "stdout",
     "output_type": "stream",
     "text": [
      "Created file: ./data/test_data/selected_md/about_renewable_energy.md\n",
      "Created file: ./data/test_data/selected_md/energy_pricing.md\n",
      "Created file: ./data/test_data/selected_md/intermittency_pricing_mechanism_(ipm).md\n",
      "Created file: ./data/test_data/selected_md/enhanced_central_intermediary_scheme_(ecis)_and_solar_generation_profile_and_solar_aggregator_model.md\n",
      "Created file: ./data/test_data/selected_md/sustainability_goals.md\n",
      "Created file: ./data/test_data/selected_md/solar_photovoltaic_(pv)_system.md\n",
      "Created file: ./data/test_data/selected_md/solar_pv_energy_output.md\n",
      "Created file: ./data/test_data/selected_md/solar_energy_policy.md\n",
      "Created file: ./data/test_data/selected_md/selling_energy_to_the_grid.md\n",
      "Created file: ./data/test_data/selected_md/about_ema.md\n",
      "Created file: ./data/test_data/selected_md/energy_storage_systems.md\n"
     ]
    }
   ],
   "source": [
    "import os\n",
    "\n",
    "def split_markdown_file(file_path):\n",
    "    with open(file_path, 'r') as file:\n",
    "        content = file.readlines()\n",
    "\n",
    "    sections = []\n",
    "    current_section = []\n",
    "    current_section_title = None\n",
    "\n",
    "    for line in content:\n",
    "        if line.startswith('# '):\n",
    "            if current_section_title:\n",
    "                sections.append((current_section_title, current_section))\n",
    "            current_section_title = line.strip('# \\n')\n",
    "            current_section = []\n",
    "        else:\n",
    "            current_section.append(line)\n",
    "\n",
    "    if current_section_title and current_section:\n",
    "        sections.append((current_section_title, current_section))\n",
    "\n",
    "    for section_title, section_content in sections:\n",
    "        section_file_name = f\"{section_title.lower().replace(' ', '_')}.md\"\n",
    "        section_file_path = os.path.join(os.path.dirname(file_path), section_file_name)\n",
    "        with open(section_file_path, 'w') as section_file:\n",
    "            section_file.writelines('# '+ section_title)\n",
    "            section_file.writelines(section_content)\n",
    "\n",
    "        print(f\"Created file: {section_file_path}\")\n",
    "\n",
    "# Example usage\n",
    "split_markdown_file('./data/test_data/selected_md/masterQA.md')\n"
   ]
  },
  {
   "cell_type": "code",
   "execution_count": null,
   "metadata": {},
   "outputs": [],
   "source": []
  }
 ],
 "metadata": {
  "kernelspec": {
   "display_name": "Python 3",
   "language": "python",
   "name": "python3"
  },
  "language_info": {
   "codemirror_mode": {
    "name": "ipython",
    "version": 3
   },
   "file_extension": ".py",
   "mimetype": "text/x-python",
   "name": "python",
   "nbconvert_exporter": "python",
   "pygments_lexer": "ipython3",
   "version": "3.10.4"
  },
  "orig_nbformat": 4
 },
 "nbformat": 4,
 "nbformat_minor": 2
}
