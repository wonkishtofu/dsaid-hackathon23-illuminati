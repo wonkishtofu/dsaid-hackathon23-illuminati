{
 "cells": [
  {
   "cell_type": "code",
   "execution_count": null,
   "id": "ef93be47",
   "metadata": {},
   "outputs": [],
   "source": [
    "#!pip install llama-index"
   ]
  },
  {
   "cell_type": "code",
   "execution_count": 1,
   "id": "296fc9a5",
   "metadata": {},
   "outputs": [],
   "source": [
    "from dotenv import load_dotenv, find_dotenv, dotenv_values\n",
    "import openai\n",
    "import pandas as pd\n",
    "import numpy as np\n",
    "\n",
    "import os\n",
    "from pathlib import Path\n",
    "import json\n",
    "\n",
    "from datetime import datetime, timedelta"
   ]
  },
  {
   "cell_type": "code",
   "execution_count": 2,
   "id": "247477a5",
   "metadata": {},
   "outputs": [],
   "source": [
    "from llama_index import VectorStoreIndex, SimpleDirectoryReader, ServiceContext\n",
    "from llama_index.indices.postprocessor import (\n",
    "    FixedRecencyPostprocessor,\n",
    "    EmbeddingRecencyPostprocessor\n",
    ")\n",
    "from llama_index.node_parser import SimpleNodeParser\n",
    "from llama_index.storage.docstore import SimpleDocumentStore\n",
    "from llama_index.response.notebook_utils import display_response\n",
    "from llama_index.storage.storage_context import StorageContext\n",
    "\n",
    "from llama_index import ListIndex"
   ]
  },
  {
   "cell_type": "code",
   "execution_count": 3,
   "id": "de305c89",
   "metadata": {},
   "outputs": [],
   "source": [
    "#import custom node processor\n",
    "from custom_node_processor import CustomSolarPostprocessor "
   ]
  },
  {
   "cell_type": "code",
   "execution_count": 4,
   "id": "ed0298f3",
   "metadata": {},
   "outputs": [],
   "source": [
    "\"\"\" LOAD OPENAI_API_KET FROM ENV \"\"\"\n",
    "_ = load_dotenv(find_dotenv(filename='apikey', usecwd=True)) \n",
    "openai.api_key = os.environ['OPENAI_API_KEY']"
   ]
  },
  {
   "cell_type": "code",
   "execution_count": null,
   "id": "47859e7d",
   "metadata": {},
   "outputs": [],
   "source": [
    "#TO-DO\n",
    "#load in docs from directory and mapping table\n",
    "#Set metadata"
   ]
  },
  {
   "cell_type": "code",
   "execution_count": 5,
   "id": "1ebe9d04",
   "metadata": {},
   "outputs": [
    {
     "data": {
      "text/html": [
       "<div>\n",
       "<style scoped>\n",
       "    .dataframe tbody tr th:only-of-type {\n",
       "        vertical-align: middle;\n",
       "    }\n",
       "\n",
       "    .dataframe tbody tr th {\n",
       "        vertical-align: top;\n",
       "    }\n",
       "\n",
       "    .dataframe thead th {\n",
       "        text-align: right;\n",
       "    }\n",
       "</style>\n",
       "<table border=\"1\" class=\"dataframe\">\n",
       "  <thead>\n",
       "    <tr style=\"text-align: right;\">\n",
       "      <th></th>\n",
       "      <th>file_path</th>\n",
       "      <th>date</th>\n",
       "      <th>category</th>\n",
       "    </tr>\n",
       "  </thead>\n",
       "  <tbody>\n",
       "    <tr>\n",
       "      <th>0</th>\n",
       "      <td>test_data/2021_PQ.txt</td>\n",
       "      <td>2021-11-01</td>\n",
       "      <td>Minister</td>\n",
       "    </tr>\n",
       "    <tr>\n",
       "      <th>1</th>\n",
       "      <td>test_data/2022_EMA.txt</td>\n",
       "      <td>2022-03-31</td>\n",
       "      <td>EMA</td>\n",
       "    </tr>\n",
       "    <tr>\n",
       "      <th>2</th>\n",
       "      <td>test_data/2023_speech.txt</td>\n",
       "      <td>2023-02-02</td>\n",
       "      <td>Minister</td>\n",
       "    </tr>\n",
       "  </tbody>\n",
       "</table>\n",
       "</div>"
      ],
      "text/plain": [
       "                   file_path        date  category\n",
       "0      test_data/2021_PQ.txt  2021-11-01  Minister\n",
       "1     test_data/2022_EMA.txt  2022-03-31       EMA\n",
       "2  test_data/2023_speech.txt  2023-02-02  Minister"
      ]
     },
     "execution_count": 5,
     "metadata": {},
     "output_type": "execute_result"
    }
   ],
   "source": [
    "#Create test mapping table\n",
    "test_mapping = [('test_data/2021_PQ.txt', '2021-11-01', 'Minister'), \n",
    "                ('test_data/2022_EMA.txt', '2022-03-31', 'EMA'),\n",
    "                ('test_data/2023_speech.txt', '2023-02-02', 'Minister')]\n",
    "\n",
    "test_mapping = pd.DataFrame(test_mapping, columns = ['file_path', 'date', 'category'])\n",
    "test_mapping"
   ]
  },
  {
   "cell_type": "code",
   "execution_count": 6,
   "id": "04113abe",
   "metadata": {},
   "outputs": [],
   "source": [
    "#Load documents and add metadata\n",
    "files_lst = list(test_mapping['file_path'].unique())\n",
    "\n",
    "def get_file_metadata(file_name: str, mapping = test_mapping):\n",
    "    \"\"\"Get file metadata.\"\"\"\n",
    "    date = mapping[mapping['file_path'] == file_name]['date'].values[0]\n",
    "    category = mapping[mapping['file_path'] == file_name]['category'].values[0]\n",
    "    metadata = {'date': date, 'category': category}\n",
    "    \n",
    "    return metadata\n",
    "    \n",
    "documents = SimpleDirectoryReader(\n",
    "    input_files = files_lst,\n",
    "    #file_metadata = get_file_metadata\n",
    ").load_data()\n",
    "\n",
    "for i, doc in enumerate(documents):\n",
    "    file_path = test_mapping.iloc[i]['file_path']\n",
    "    doc.extra_info = get_file_metadata(file_path)\n",
    "    \n",
    "# define service context (wrapper container around current classes)\n",
    "service_context = ServiceContext.from_defaults(chunk_size=512)\n",
    "\n",
    "# use node parser in service context to parse into nodes\n",
    "nodes = service_context.node_parser.get_nodes_from_documents(documents)\n",
    "\n",
    "# add to docstore\n",
    "docstore = SimpleDocumentStore()\n",
    "docstore.add_documents(nodes)\n",
    "\n",
    "storage_context = StorageContext.from_defaults(docstore=docstore)\n",
    "\n",
    "#print(documents[2].get_text())"
   ]
  },
  {
   "cell_type": "code",
   "execution_count": 7,
   "id": "b42a1e21",
   "metadata": {},
   "outputs": [],
   "source": [
    "# build index \n",
    "index = VectorStoreIndex(nodes, storage_context=storage_context)"
   ]
  },
  {
   "cell_type": "code",
   "execution_count": 8,
   "id": "5eda859e",
   "metadata": {},
   "outputs": [],
   "source": [
    "node_postprocessor = CustomSolarPostprocessor(service_context=service_context, top_k_recency = 1, top_k_min = 2)"
   ]
  },
  {
   "cell_type": "markdown",
   "id": "1a99899c",
   "metadata": {},
   "source": [
    "### High-level API"
   ]
  },
  {
   "cell_type": "markdown",
   "id": "80d6d68c",
   "metadata": {},
   "source": [
    "#### Test 1. Non-stats query - prioritise Minister\n",
    "\n",
    "Relevant files:\n",
    "1. 2022_EMA: Inserted \"Singapore is on track to achieving our solar panel deployment target of at least 1.5 gigawatt-peak (GWp) by 2030. Solar installed capacity increased over eight-fold from 2015 to over 500 megawatt-peak (MWp) in the second quarter of 2021.\" --> changed 2 gigawatt-peak to 1.5\n",
    "2. 2021_PQ: \"Singapore is on track to achieving our solar panel deployment target of at least 2 gigawatt-peak (GWp) by 2030. Solar installed capacity increased over eight-fold from 2015 to over 500 megawatt-peak (MWp) in the second quarter of 2021.\" (original text)\n",
    "\n",
    "Desired output:\n",
    "This is not a stats query, hence even though the EMA file is more recent, we want the Minister's answer, i.e. at least 2 gigawatt-peak (GWp) by 2030."
   ]
  },
  {
   "cell_type": "code",
   "execution_count": 9,
   "id": "d5bb0770",
   "metadata": {},
   "outputs": [
    {
     "name": "stdout",
     "output_type": "stream",
     "text": [
      "Prediction on stats status: False\n",
      "\n",
      "The solar panel deployment target by 2030 is at least 2 gigawatt-peak (GWp).\n"
     ]
    }
   ],
   "source": [
    "# query using custom node postprocessor\n",
    "query_engine = index.as_query_engine(\n",
    "    similarity_top_k=3,\n",
    "    node_postprocessors=[node_postprocessor]\n",
    ")\n",
    "response = query_engine.query(\n",
    "    \"What is the solar panel deployment target by 2030?\", \n",
    ")\n",
    "print(response)"
   ]
  },
  {
   "cell_type": "code",
   "execution_count": 11,
   "id": "fe33fe10",
   "metadata": {},
   "outputs": [
    {
     "name": "stdout",
     "output_type": "stream",
     "text": [
      "\n",
      "The solar panel deployment target by 2030 is at least 1.5 gigawatt-peak (GWp).\n"
     ]
    }
   ],
   "source": [
    "#Test with just the recency filter\n",
    "node_postprocessor_recency = FixedRecencyPostprocessor(service_context=service_context, top_k = 2) \n",
    "\n",
    "query_engine = index.as_query_engine(\n",
    "    similarity_top_k=3,\n",
    "    node_postprocessors=[node_postprocessor_recency]\n",
    ")\n",
    "response = query_engine.query(\n",
    "    \"What is the solar panel deployment target by 2030?\", \n",
    ")\n",
    "print(response)"
   ]
  },
  {
   "cell_type": "markdown",
   "id": "74bc8074",
   "metadata": {},
   "source": [
    "#### Test 2. Stats query - take most recent file (should be same result as recency filter)\n",
    "\n",
    "Relevant files:\n",
    "1. 2023_speech: \"After achieving our solar target of 350 megawatt-peak or MWp in 2020, we have since doubled our capacity to more than 700 MWp of solar installed today.\"\n",
    "2. 2022_EMA: \"Grid-connected installed solar capacity grew significantly from 125.0 MWp in 2016 to 670.0 MWp as at end Q1 2022.\"\n",
    "3. 2021_PQ: \"Solar installed capacity increased over eight-fold from 2015 to over 500 megawatt-peak (MWp) in the second quarter of 2021.\"\n",
    "\n",
    "Desired output:\n",
    "This is a stats query, hence we want the most recent document, i.e. more than 700 MWp."
   ]
  },
  {
   "cell_type": "code",
   "execution_count": 12,
   "id": "6c004f86",
   "metadata": {},
   "outputs": [
    {
     "name": "stdout",
     "output_type": "stream",
     "text": [
      "Prediction on stats status: True\n",
      "\n",
      "Singapore's solar capacity today is more than 700 MWp.\n"
     ]
    }
   ],
   "source": [
    "# query using custom node postprocessor\n",
    "query_engine = index.as_query_engine(\n",
    "    similarity_top_k=3,\n",
    "    node_postprocessors=[node_postprocessor]\n",
    ")\n",
    "response = query_engine.query(\n",
    "    \"What is Singapore's solar capacity today?\", \n",
    ")\n",
    "print(response)"
   ]
  },
  {
   "cell_type": "code",
   "execution_count": 13,
   "id": "18fe5407",
   "metadata": {},
   "outputs": [
    {
     "name": "stdout",
     "output_type": "stream",
     "text": [
      "\n",
      "Singapore's solar capacity today is more than 700 MWp.\n"
     ]
    }
   ],
   "source": [
    "#Test with just the recency filter\n",
    "node_postprocessor_recency = FixedRecencyPostprocessor(service_context=service_context, top_k = 1) \n",
    "\n",
    "query_engine = index.as_query_engine(\n",
    "    similarity_top_k=3,\n",
    "    node_postprocessors=[node_postprocessor_recency]\n",
    ")\n",
    "response = query_engine.query(\n",
    "    \"What is Singapore's solar capacity today?\", \n",
    ")\n",
    "print(response)"
   ]
  },
  {
   "cell_type": "markdown",
   "id": "1d4958b7",
   "metadata": {},
   "source": [
    "### Low-level API - could use this to inspect nodes but otherwise could do without"
   ]
  },
  {
   "cell_type": "code",
   "execution_count": 53,
   "id": "f2db835d",
   "metadata": {},
   "outputs": [],
   "source": [
    "query_str = \"What is Singapore's solar capacity today?\"\n",
    "query_engine = index.as_query_engine(\n",
    "    similarity_top_k=3,\n",
    "    response_mode=\"no_text\"\n",
    ")\n",
    "init_response = query_engine.query(\n",
    "    query_str, \n",
    ")\n",
    "resp_nodes = [n.node for n in init_response.source_nodes]"
   ]
  },
  {
   "cell_type": "code",
   "execution_count": 54,
   "id": "41c50308",
   "metadata": {},
   "outputs": [
    {
     "name": "stdout",
     "output_type": "stream",
     "text": [
      "Prediction on stats status: True\n"
     ]
    }
   ],
   "source": [
    "list_index = ListIndex(resp_nodes)\n",
    "query_engine = list_index.as_query_engine(\n",
    "    node_postprocessors=[node_postprocessor]\n",
    ")\n",
    "response = query_engine.query(query_str)"
   ]
  },
  {
   "cell_type": "code",
   "execution_count": 55,
   "id": "7a4a8177",
   "metadata": {},
   "outputs": [
    {
     "data": {
      "text/plain": [
       "[Node(text='\\nSingapore is on track to achieving our solar panel deployment target of at least 1.5 gigawatt-peak (GWp) by 2030. Solar installed capacity increased over eight-fold from 2015 to over 500 megawatt-peak (MWp) in the second quarter of 2021.\\n\\nGrid-connected installed solar capacity grew significantly from 125.0 MWp in 2016 to 670.0 MWp as at end Q1 2022.\\n\\nThe majority of solar PV capacity as at end Q1 2022 was accounted for by non-residential private sector (61.7% of total installed capacity or 413.1 MWp), followed by town councils and grassroots (28.3% or 189.6 MWp). Installations from public service agencies (6.7% or 45.2 MWp) and residential installations (3.3% or 22.1 MWp) contributed to the remaining solar PV capacity.\\n\\nThere was a total of 5,455 solar PV installations in Singapore as at end Q1 2022. Town councils and grassroots units accounted for the majority (48.9% or 2,668) of total installations, followed by the residential (34.7% or 1,891 installations) and non-residential private sector (13.0% or 707 installations). The installations from public service agencies constituted the remaining 3.5% (or 189 installations) of total installations.\\n', doc_id='7d7a70d2-ee74-4ddd-b61c-f91289425db8', embedding=None, doc_hash='c6a76f44ace8aee5835bff3296e1d6b183cd659c3ea30cc00d32d1ac7c9d07c6', extra_info={'date': '2022-03-31', 'category': 'EMA'}, node_info={'start': 0, 'end': 1166, '_node_type': <NodeType.TEXT: '1'>}, relationships={<DocumentRelationship.SOURCE: '1'>: 'd2022042-4937-4dc5-86aa-a2d40fbbf11d'}),\n",
       " Node(text='Speech by 2M Tan See Leng Guest-of-Honour at the Official Launch of Sembcorp Energy Storage System\\nMr Koh Chiap Khiong, CEO, Singapore & Southeast Asia,  Sembcorp Industries,\\n\\n \\n\\nMr Richard Lim, Chairman, EMA,\\n\\n \\n\\nMr Ngiam Shih Chun, Chief Executive, EMA,\\n\\n \\n\\nYour Excellency,\\n\\n \\n\\nBoard of Directors, Sembcorp Industries,\\n\\n \\n\\nLadies and Gentlemen,\\n\\n \\n\\nIntroduction\\n\\n \\n\\n1.\\tA very good afternoon to all of you.\\n\\n \\n\\n2.\\tI would first like to congratulate Sembcorp Industries on the official opening of the Sembcorp Energy Storage System on Jurong Island.\\n\\n \\n\\n3.\\tThank you for inviting me to share this achievement with you.\\n\\n \\n\\n4.\\tSingapore’s small land size and geography limits our renewable energy options, but we are committed to play our part in the global effort to combat climate change.\\n\\n \\n\\n5.\\tTo overcome our constraints, Singapore must develop innovative ideas and use technology extensively.\\n\\n \\n\\n6.\\tAs part of Singapore’s Energy Transition, Singapore has embarked on various initiatives to decarbonise our power sector.\\n\\n \\n\\n7.\\tA key initiative is scaling up the deployment of solar power, which is our most viable source of clean energy.\\n\\n \\n\\n8.\\tAfter achieving our solar target of 350 megawatt-peak or MWp in 2020, we have since doubled our capacity to more than 700 MWp of solar installed today.\\n\\n \\n\\n9.\\tThis makes Singapore one of the most solar dense cities in the world.\\n\\n \\n\\n10.\\tTo meet our target of 1.5 gigawatt-peak or GWp of solar by 2025 and at least 2 GWp by 2030, we will need to continually adopt innovative solutions to maximise our solar energy potential.\\n\\n \\n\\n11.\\tThis includes maximising solar deployment on conventional', doc_id='d1e37ef0-5267-4a86-92ab-3740c7807b0f', embedding=None, doc_hash='89be4336044ebf8f025aade0a26d1a64c5218005932e3ac3e834c07c5abcea3c', extra_info={'date': '2023-02-02', 'category': 'Minister'}, node_info={'start': 0, 'end': 1641, '_node_type': <NodeType.TEXT: '1'>}, relationships={<DocumentRelationship.SOURCE: '1'>: '83c2d5dc-342c-4590-ad9f-4444f8977a0f', <DocumentRelationship.NEXT: '3'>: 'd5458492-229f-474b-84d1-3b77abc45e72'}),\n",
       " Node(text='Written reply to PQ on 2030 targets for generating electricity with solar energy\\nQuestion\\n\\nMr Murali Pillai: To ask the Minister for Trade and Industry (a) what has been the progress of Ministry’s efforts to meet the target of generating at least two gigawatt-peak (“GWp”) of electricity through solar energy by 2030 with a view to power about 350,000 households; and (b) what steps will the Ministry be taking to encourage more private and commercial property owners to install solar energy systems in their premises.\\n\\nWritten Answer by Minister for Trade and Industry Gan Kim Yong\\n\\n1.\\tSingapore is on track to achieving our solar panel deployment target of at least 2 gigawatt-peak (GWp) by 2030. Solar installed capacity increased over eight-fold from 2015 to over 500 megawatt-peak (MWp) in the second quarter of 2021.\\n\\n2.\\tThe Government has taken the lead in accelerating rooftop solar deployment through programmes such as the SolarNova programme, which aggregates demand for solar systems across the public sector. In addition, we are also exploring innovative ways of deploying solar systems on spaces such as water bodies, temporary vacant land and sheltered walkways. For example, we recently commissioned our first large-scale floating solar system at Tengeh Reservoir, which at 60 MWp, is one of the world’s largest inland floating solar farms.\\n\\n3.\\tTo facilitate the deployment of solar energy, the Energy Market Authority (EMA) has enhanced its regulatory framework to make it easier for solar adopters to sell excess solar electricity back to the grid. For example, EMA’s Simplified Credit Treatment Scheme or Enhanced Central Intermediary Scheme allows consumers to register their solar installations with SP Group and be paid directly through their monthly bill.\\n\\n4.\\tTo facilitate solar deployment in commercial and industrial facilities,', doc_id='24fcd2c5-b2e7-435d-9277-f1087e99bea6', embedding=None, doc_hash='3af7f56b525759f259c50ad0bfec322d2f2830c4d41dca3d194f3dba37e60d76', extra_info={'date': '2021-11-01', 'category': 'Minister'}, node_info={'start': 0, 'end': 1854, '_node_type': <NodeType.TEXT: '1'>}, relationships={<DocumentRelationship.SOURCE: '1'>: 'e1e4389d-5b4b-4539-96f6-239c1b9b2f7b', <DocumentRelationship.NEXT: '3'>: 'e48a62dc-9896-4b1f-a681-e1d1725f45af'})]"
      ]
     },
     "execution_count": 55,
     "metadata": {},
     "output_type": "execute_result"
    }
   ],
   "source": [
    "resp_nodes"
   ]
  },
  {
   "cell_type": "code",
   "execution_count": 56,
   "id": "15cad7bf",
   "metadata": {},
   "outputs": [
    {
     "name": "stdout",
     "output_type": "stream",
     "text": [
      "\n",
      "Singapore's solar capacity today is over 500 megawatt-peak (MWp).\n"
     ]
    }
   ],
   "source": [
    "print(response)"
   ]
  }
 ],
 "metadata": {
  "kernelspec": {
   "display_name": "Python 3 (ipykernel)",
   "language": "python",
   "name": "python3"
  },
  "language_info": {
   "codemirror_mode": {
    "name": "ipython",
    "version": 3
   },
   "file_extension": ".py",
   "mimetype": "text/x-python",
   "name": "python",
   "nbconvert_exporter": "python",
   "pygments_lexer": "ipython3",
   "version": "3.9.12"
  }
 },
 "nbformat": 4,
 "nbformat_minor": 5
}
